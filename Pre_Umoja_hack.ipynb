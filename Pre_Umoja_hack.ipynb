{
  "nbformat": 4,
  "nbformat_minor": 0,
  "metadata": {
    "kernelspec": {
      "display_name": "Python 3",
      "language": "python",
      "name": "python3"
    },
    "language_info": {
      "codemirror_mode": {
        "name": "ipython",
        "version": 3
      },
      "file_extension": ".py",
      "mimetype": "text/x-python",
      "name": "python",
      "nbconvert_exporter": "python",
      "pygments_lexer": "ipython3",
      "version": "3.7.3"
    },
    "colab": {
      "name": "Pre_Umoja hack.ipynb",
      "provenance": [],
      "include_colab_link": true
    }
  },
  "cells": [
    {
      "cell_type": "markdown",
      "metadata": {
        "id": "view-in-github",
        "colab_type": "text"
      },
      "source": [
        "<a href=\"https://colab.research.google.com/github/karabomaboka/21DaysLockdown-DS-Projects/blob/master/Pre_Umoja_hack.ipynb\" target=\"_parent\"><img src=\"https://colab.research.google.com/assets/colab-badge.svg\" alt=\"Open In Colab\"/></a>"
      ]
    },
    {
      "cell_type": "code",
      "metadata": {
        "id": "oFl6eEeOxmj_",
        "colab": {
          "base_uri": "https://localhost:8080/"
        },
        "outputId": "3ad2cd7f-333a-433f-98b8-350d98272870"
      },
      "source": [
        "from google.colab import drive\n",
        "drive.mount(\"/content/drive\")"
      ],
      "execution_count": null,
      "outputs": [
        {
          "output_type": "stream",
          "text": [
            "Mounted at /content/drive\n"
          ],
          "name": "stdout"
        }
      ]
    },
    {
      "cell_type": "code",
      "metadata": {
        "id": "NYMkjubK0hR1"
      },
      "source": [
        "import pandas as pd\n",
        "import numpy as np\n",
        "import matplotlib.pyplot as plt\n",
        "import warnings\n",
        "warnings.filterwarnings('ignore')\n",
        "%matplotlib inline\n",
        "pd.set_option('display.max_columns',50)\n",
        "import seaborn as sns\n",
        "import lightgbm as lgbm\n",
        "from sklearn.model_selection import StratifiedKFold\n",
        "from sklearn.metrics import accuracy_score\n"
      ],
      "execution_count": null,
      "outputs": []
    },
    {
      "cell_type": "code",
      "metadata": {
        "id": "-l0DFp6ExmkO"
      },
      "source": [
        "train=pd.read_csv(\"/content/drive/My Drive/PIE_FINANCILAL_INCLUSION/Train.csv\")\n",
        "test=pd.read_csv('/content/drive/My Drive/PIE_FINANCILAL_INCLUSION/Test.csv')"
      ],
      "execution_count": null,
      "outputs": []
    },
    {
      "cell_type": "code",
      "metadata": {
        "id": "eN86KBiOxmkY",
        "colab": {
          "base_uri": "https://localhost:8080/",
          "height": 51
        },
        "outputId": "ab51e4ea-a33e-49af-93ca-5e3f80cdecee"
      },
      "source": [
        "print(f'Train dataset has {train.shape[0]} rows and {train.shape[1]} columns.')\n",
        "print(f'Test dataset has {test.shape[0]} rows and {test.shape[1]} columns.')"
      ],
      "execution_count": null,
      "outputs": [
        {
          "output_type": "stream",
          "text": [
            "Train dataset has 23524 rows and 13 columns.\n",
            "Test dataset has 10086 rows and 12 columns.\n"
          ],
          "name": "stdout"
        }
      ]
    },
    {
      "cell_type": "code",
      "metadata": {
        "id": "RPmm6gE0xmkl",
        "colab": {
          "base_uri": "https://localhost:8080/",
          "height": 213
        },
        "outputId": "1e7d470f-135d-4155-fba0-2ce9319e093d"
      },
      "source": [
        "train.head(3)"
      ],
      "execution_count": null,
      "outputs": [
        {
          "output_type": "execute_result",
          "data": {
            "text/html": [
              "<div>\n",
              "<style scoped>\n",
              "    .dataframe tbody tr th:only-of-type {\n",
              "        vertical-align: middle;\n",
              "    }\n",
              "\n",
              "    .dataframe tbody tr th {\n",
              "        vertical-align: top;\n",
              "    }\n",
              "\n",
              "    .dataframe thead th {\n",
              "        text-align: right;\n",
              "    }\n",
              "</style>\n",
              "<table border=\"1\" class=\"dataframe\">\n",
              "  <thead>\n",
              "    <tr style=\"text-align: right;\">\n",
              "      <th></th>\n",
              "      <th>country</th>\n",
              "      <th>year</th>\n",
              "      <th>uniqueid</th>\n",
              "      <th>bank_account</th>\n",
              "      <th>location_type</th>\n",
              "      <th>cellphone_access</th>\n",
              "      <th>household_size</th>\n",
              "      <th>age_of_respondent</th>\n",
              "      <th>gender_of_respondent</th>\n",
              "      <th>relationship_with_head</th>\n",
              "      <th>marital_status</th>\n",
              "      <th>education_level</th>\n",
              "      <th>job_type</th>\n",
              "    </tr>\n",
              "  </thead>\n",
              "  <tbody>\n",
              "    <tr>\n",
              "      <th>0</th>\n",
              "      <td>Kenya</td>\n",
              "      <td>2018</td>\n",
              "      <td>uniqueid_1</td>\n",
              "      <td>Yes</td>\n",
              "      <td>Rural</td>\n",
              "      <td>Yes</td>\n",
              "      <td>3</td>\n",
              "      <td>24</td>\n",
              "      <td>Female</td>\n",
              "      <td>Spouse</td>\n",
              "      <td>Married/Living together</td>\n",
              "      <td>Secondary education</td>\n",
              "      <td>Self employed</td>\n",
              "    </tr>\n",
              "    <tr>\n",
              "      <th>1</th>\n",
              "      <td>Kenya</td>\n",
              "      <td>2018</td>\n",
              "      <td>uniqueid_2</td>\n",
              "      <td>No</td>\n",
              "      <td>Rural</td>\n",
              "      <td>No</td>\n",
              "      <td>5</td>\n",
              "      <td>70</td>\n",
              "      <td>Female</td>\n",
              "      <td>Head of Household</td>\n",
              "      <td>Widowed</td>\n",
              "      <td>No formal education</td>\n",
              "      <td>Government Dependent</td>\n",
              "    </tr>\n",
              "    <tr>\n",
              "      <th>2</th>\n",
              "      <td>Kenya</td>\n",
              "      <td>2018</td>\n",
              "      <td>uniqueid_3</td>\n",
              "      <td>Yes</td>\n",
              "      <td>Urban</td>\n",
              "      <td>Yes</td>\n",
              "      <td>5</td>\n",
              "      <td>26</td>\n",
              "      <td>Male</td>\n",
              "      <td>Other relative</td>\n",
              "      <td>Single/Never Married</td>\n",
              "      <td>Vocational/Specialised training</td>\n",
              "      <td>Self employed</td>\n",
              "    </tr>\n",
              "  </tbody>\n",
              "</table>\n",
              "</div>"
            ],
            "text/plain": [
              "  country  year    uniqueid bank_account location_type cellphone_access  \\\n",
              "0   Kenya  2018  uniqueid_1          Yes         Rural              Yes   \n",
              "1   Kenya  2018  uniqueid_2           No         Rural               No   \n",
              "2   Kenya  2018  uniqueid_3          Yes         Urban              Yes   \n",
              "\n",
              "   household_size  age_of_respondent gender_of_respondent  \\\n",
              "0               3                 24               Female   \n",
              "1               5                 70               Female   \n",
              "2               5                 26                 Male   \n",
              "\n",
              "  relationship_with_head           marital_status  \\\n",
              "0                 Spouse  Married/Living together   \n",
              "1      Head of Household                  Widowed   \n",
              "2         Other relative     Single/Never Married   \n",
              "\n",
              "                   education_level              job_type  \n",
              "0              Secondary education         Self employed  \n",
              "1              No formal education  Government Dependent  \n",
              "2  Vocational/Specialised training         Self employed  "
            ]
          },
          "metadata": {
            "tags": []
          },
          "execution_count": 154
        }
      ]
    },
    {
      "cell_type": "code",
      "metadata": {
        "id": "Inhea38Hxmkw"
      },
      "source": [
        "train[\"bank_account\"] = pd.get_dummies(train['bank_account'], columns = ['bank_account'], prefix = ['bank_account'], drop_first = True)"
      ],
      "execution_count": null,
      "outputs": []
    },
    {
      "cell_type": "code",
      "metadata": {
        "id": "XTbeeaZkxmk6",
        "colab": {
          "base_uri": "https://localhost:8080/",
          "height": 326
        },
        "outputId": "834ef201-fb4c-47c4-d88f-fd294336e0cf"
      },
      "source": [
        "train.head()"
      ],
      "execution_count": null,
      "outputs": [
        {
          "output_type": "execute_result",
          "data": {
            "text/html": [
              "<div>\n",
              "<style scoped>\n",
              "    .dataframe tbody tr th:only-of-type {\n",
              "        vertical-align: middle;\n",
              "    }\n",
              "\n",
              "    .dataframe tbody tr th {\n",
              "        vertical-align: top;\n",
              "    }\n",
              "\n",
              "    .dataframe thead th {\n",
              "        text-align: right;\n",
              "    }\n",
              "</style>\n",
              "<table border=\"1\" class=\"dataframe\">\n",
              "  <thead>\n",
              "    <tr style=\"text-align: right;\">\n",
              "      <th></th>\n",
              "      <th>country</th>\n",
              "      <th>year</th>\n",
              "      <th>uniqueid</th>\n",
              "      <th>bank_account</th>\n",
              "      <th>location_type</th>\n",
              "      <th>cellphone_access</th>\n",
              "      <th>household_size</th>\n",
              "      <th>age_of_respondent</th>\n",
              "      <th>gender_of_respondent</th>\n",
              "      <th>relationship_with_head</th>\n",
              "      <th>marital_status</th>\n",
              "      <th>education_level</th>\n",
              "      <th>job_type</th>\n",
              "    </tr>\n",
              "  </thead>\n",
              "  <tbody>\n",
              "    <tr>\n",
              "      <th>0</th>\n",
              "      <td>Kenya</td>\n",
              "      <td>2018</td>\n",
              "      <td>uniqueid_1</td>\n",
              "      <td>1</td>\n",
              "      <td>Rural</td>\n",
              "      <td>Yes</td>\n",
              "      <td>3</td>\n",
              "      <td>24</td>\n",
              "      <td>Female</td>\n",
              "      <td>Spouse</td>\n",
              "      <td>Married/Living together</td>\n",
              "      <td>Secondary education</td>\n",
              "      <td>Self employed</td>\n",
              "    </tr>\n",
              "    <tr>\n",
              "      <th>1</th>\n",
              "      <td>Kenya</td>\n",
              "      <td>2018</td>\n",
              "      <td>uniqueid_2</td>\n",
              "      <td>0</td>\n",
              "      <td>Rural</td>\n",
              "      <td>No</td>\n",
              "      <td>5</td>\n",
              "      <td>70</td>\n",
              "      <td>Female</td>\n",
              "      <td>Head of Household</td>\n",
              "      <td>Widowed</td>\n",
              "      <td>No formal education</td>\n",
              "      <td>Government Dependent</td>\n",
              "    </tr>\n",
              "    <tr>\n",
              "      <th>2</th>\n",
              "      <td>Kenya</td>\n",
              "      <td>2018</td>\n",
              "      <td>uniqueid_3</td>\n",
              "      <td>1</td>\n",
              "      <td>Urban</td>\n",
              "      <td>Yes</td>\n",
              "      <td>5</td>\n",
              "      <td>26</td>\n",
              "      <td>Male</td>\n",
              "      <td>Other relative</td>\n",
              "      <td>Single/Never Married</td>\n",
              "      <td>Vocational/Specialised training</td>\n",
              "      <td>Self employed</td>\n",
              "    </tr>\n",
              "    <tr>\n",
              "      <th>3</th>\n",
              "      <td>Kenya</td>\n",
              "      <td>2018</td>\n",
              "      <td>uniqueid_4</td>\n",
              "      <td>0</td>\n",
              "      <td>Rural</td>\n",
              "      <td>Yes</td>\n",
              "      <td>5</td>\n",
              "      <td>34</td>\n",
              "      <td>Female</td>\n",
              "      <td>Head of Household</td>\n",
              "      <td>Married/Living together</td>\n",
              "      <td>Primary education</td>\n",
              "      <td>Formally employed Private</td>\n",
              "    </tr>\n",
              "    <tr>\n",
              "      <th>4</th>\n",
              "      <td>Kenya</td>\n",
              "      <td>2018</td>\n",
              "      <td>uniqueid_5</td>\n",
              "      <td>0</td>\n",
              "      <td>Urban</td>\n",
              "      <td>No</td>\n",
              "      <td>8</td>\n",
              "      <td>26</td>\n",
              "      <td>Male</td>\n",
              "      <td>Child</td>\n",
              "      <td>Single/Never Married</td>\n",
              "      <td>Primary education</td>\n",
              "      <td>Informally employed</td>\n",
              "    </tr>\n",
              "  </tbody>\n",
              "</table>\n",
              "</div>"
            ],
            "text/plain": [
              "  country  year    uniqueid  bank_account location_type cellphone_access  \\\n",
              "0   Kenya  2018  uniqueid_1             1         Rural              Yes   \n",
              "1   Kenya  2018  uniqueid_2             0         Rural               No   \n",
              "2   Kenya  2018  uniqueid_3             1         Urban              Yes   \n",
              "3   Kenya  2018  uniqueid_4             0         Rural              Yes   \n",
              "4   Kenya  2018  uniqueid_5             0         Urban               No   \n",
              "\n",
              "   household_size  age_of_respondent gender_of_respondent  \\\n",
              "0               3                 24               Female   \n",
              "1               5                 70               Female   \n",
              "2               5                 26                 Male   \n",
              "3               5                 34               Female   \n",
              "4               8                 26                 Male   \n",
              "\n",
              "  relationship_with_head           marital_status  \\\n",
              "0                 Spouse  Married/Living together   \n",
              "1      Head of Household                  Widowed   \n",
              "2         Other relative     Single/Never Married   \n",
              "3      Head of Household  Married/Living together   \n",
              "4                  Child     Single/Never Married   \n",
              "\n",
              "                   education_level                   job_type  \n",
              "0              Secondary education              Self employed  \n",
              "1              No formal education       Government Dependent  \n",
              "2  Vocational/Specialised training              Self employed  \n",
              "3                Primary education  Formally employed Private  \n",
              "4                Primary education        Informally employed  "
            ]
          },
          "metadata": {
            "tags": []
          },
          "execution_count": 156
        }
      ]
    },
    {
      "cell_type": "code",
      "metadata": {
        "id": "QQCNhjq4xmlF"
      },
      "source": [
        "def missing(df):\n",
        "    missing_df = pd.DataFrame({'features': df.columns})\n",
        "    missing_df['missing%'] = missing_df['features'].map(df.isnull()[missing_df['features']].sum() * 100 / df.shape[0])\n",
        "    missing_df = missing_df.sort_values(by = 'missing%', ascending = False)\n",
        "    return missing_df"
      ],
      "execution_count": null,
      "outputs": []
    },
    {
      "cell_type": "code",
      "metadata": {
        "id": "OcMj1YePxmlR"
      },
      "source": [
        ""
      ],
      "execution_count": null,
      "outputs": []
    },
    {
      "cell_type": "code",
      "metadata": {
        "id": "nR-osUa1xmla"
      },
      "source": [
        "train_missing=missing(train)\n",
        "test_missing=missing(test)"
      ],
      "execution_count": null,
      "outputs": []
    },
    {
      "cell_type": "code",
      "metadata": {
        "id": "BAgTo5wkxmlq",
        "colab": {
          "base_uri": "https://localhost:8080/",
          "height": 452
        },
        "outputId": "2fa9d234-51dc-4e4c-c68d-dd2d46fe7b73"
      },
      "source": [
        "train_missing"
      ],
      "execution_count": null,
      "outputs": [
        {
          "output_type": "execute_result",
          "data": {
            "text/html": [
              "<div>\n",
              "<style scoped>\n",
              "    .dataframe tbody tr th:only-of-type {\n",
              "        vertical-align: middle;\n",
              "    }\n",
              "\n",
              "    .dataframe tbody tr th {\n",
              "        vertical-align: top;\n",
              "    }\n",
              "\n",
              "    .dataframe thead th {\n",
              "        text-align: right;\n",
              "    }\n",
              "</style>\n",
              "<table border=\"1\" class=\"dataframe\">\n",
              "  <thead>\n",
              "    <tr style=\"text-align: right;\">\n",
              "      <th></th>\n",
              "      <th>features</th>\n",
              "      <th>missing%</th>\n",
              "    </tr>\n",
              "  </thead>\n",
              "  <tbody>\n",
              "    <tr>\n",
              "      <th>0</th>\n",
              "      <td>country</td>\n",
              "      <td>0.0</td>\n",
              "    </tr>\n",
              "    <tr>\n",
              "      <th>1</th>\n",
              "      <td>year</td>\n",
              "      <td>0.0</td>\n",
              "    </tr>\n",
              "    <tr>\n",
              "      <th>2</th>\n",
              "      <td>uniqueid</td>\n",
              "      <td>0.0</td>\n",
              "    </tr>\n",
              "    <tr>\n",
              "      <th>3</th>\n",
              "      <td>bank_account</td>\n",
              "      <td>0.0</td>\n",
              "    </tr>\n",
              "    <tr>\n",
              "      <th>4</th>\n",
              "      <td>location_type</td>\n",
              "      <td>0.0</td>\n",
              "    </tr>\n",
              "    <tr>\n",
              "      <th>5</th>\n",
              "      <td>cellphone_access</td>\n",
              "      <td>0.0</td>\n",
              "    </tr>\n",
              "    <tr>\n",
              "      <th>6</th>\n",
              "      <td>household_size</td>\n",
              "      <td>0.0</td>\n",
              "    </tr>\n",
              "    <tr>\n",
              "      <th>7</th>\n",
              "      <td>age_of_respondent</td>\n",
              "      <td>0.0</td>\n",
              "    </tr>\n",
              "    <tr>\n",
              "      <th>8</th>\n",
              "      <td>gender_of_respondent</td>\n",
              "      <td>0.0</td>\n",
              "    </tr>\n",
              "    <tr>\n",
              "      <th>9</th>\n",
              "      <td>relationship_with_head</td>\n",
              "      <td>0.0</td>\n",
              "    </tr>\n",
              "    <tr>\n",
              "      <th>10</th>\n",
              "      <td>marital_status</td>\n",
              "      <td>0.0</td>\n",
              "    </tr>\n",
              "    <tr>\n",
              "      <th>11</th>\n",
              "      <td>education_level</td>\n",
              "      <td>0.0</td>\n",
              "    </tr>\n",
              "    <tr>\n",
              "      <th>12</th>\n",
              "      <td>job_type</td>\n",
              "      <td>0.0</td>\n",
              "    </tr>\n",
              "  </tbody>\n",
              "</table>\n",
              "</div>"
            ],
            "text/plain": [
              "                  features  missing%\n",
              "0                  country       0.0\n",
              "1                     year       0.0\n",
              "2                 uniqueid       0.0\n",
              "3             bank_account       0.0\n",
              "4            location_type       0.0\n",
              "5         cellphone_access       0.0\n",
              "6           household_size       0.0\n",
              "7        age_of_respondent       0.0\n",
              "8     gender_of_respondent       0.0\n",
              "9   relationship_with_head       0.0\n",
              "10          marital_status       0.0\n",
              "11         education_level       0.0\n",
              "12                job_type       0.0"
            ]
          },
          "metadata": {
            "tags": []
          },
          "execution_count": 159
        }
      ]
    },
    {
      "cell_type": "code",
      "metadata": {
        "id": "4z09iJLexml6",
        "colab": {
          "base_uri": "https://localhost:8080/",
          "height": 421
        },
        "outputId": "54aeb80d-60ab-44ff-9f34-dd9a8e6442f7"
      },
      "source": [
        "test_missing"
      ],
      "execution_count": null,
      "outputs": [
        {
          "output_type": "execute_result",
          "data": {
            "text/html": [
              "<div>\n",
              "<style scoped>\n",
              "    .dataframe tbody tr th:only-of-type {\n",
              "        vertical-align: middle;\n",
              "    }\n",
              "\n",
              "    .dataframe tbody tr th {\n",
              "        vertical-align: top;\n",
              "    }\n",
              "\n",
              "    .dataframe thead th {\n",
              "        text-align: right;\n",
              "    }\n",
              "</style>\n",
              "<table border=\"1\" class=\"dataframe\">\n",
              "  <thead>\n",
              "    <tr style=\"text-align: right;\">\n",
              "      <th></th>\n",
              "      <th>features</th>\n",
              "      <th>missing%</th>\n",
              "    </tr>\n",
              "  </thead>\n",
              "  <tbody>\n",
              "    <tr>\n",
              "      <th>0</th>\n",
              "      <td>country</td>\n",
              "      <td>0.0</td>\n",
              "    </tr>\n",
              "    <tr>\n",
              "      <th>1</th>\n",
              "      <td>year</td>\n",
              "      <td>0.0</td>\n",
              "    </tr>\n",
              "    <tr>\n",
              "      <th>2</th>\n",
              "      <td>uniqueid</td>\n",
              "      <td>0.0</td>\n",
              "    </tr>\n",
              "    <tr>\n",
              "      <th>3</th>\n",
              "      <td>location_type</td>\n",
              "      <td>0.0</td>\n",
              "    </tr>\n",
              "    <tr>\n",
              "      <th>4</th>\n",
              "      <td>cellphone_access</td>\n",
              "      <td>0.0</td>\n",
              "    </tr>\n",
              "    <tr>\n",
              "      <th>5</th>\n",
              "      <td>household_size</td>\n",
              "      <td>0.0</td>\n",
              "    </tr>\n",
              "    <tr>\n",
              "      <th>6</th>\n",
              "      <td>age_of_respondent</td>\n",
              "      <td>0.0</td>\n",
              "    </tr>\n",
              "    <tr>\n",
              "      <th>7</th>\n",
              "      <td>gender_of_respondent</td>\n",
              "      <td>0.0</td>\n",
              "    </tr>\n",
              "    <tr>\n",
              "      <th>8</th>\n",
              "      <td>relationship_with_head</td>\n",
              "      <td>0.0</td>\n",
              "    </tr>\n",
              "    <tr>\n",
              "      <th>9</th>\n",
              "      <td>marital_status</td>\n",
              "      <td>0.0</td>\n",
              "    </tr>\n",
              "    <tr>\n",
              "      <th>10</th>\n",
              "      <td>education_level</td>\n",
              "      <td>0.0</td>\n",
              "    </tr>\n",
              "    <tr>\n",
              "      <th>11</th>\n",
              "      <td>job_type</td>\n",
              "      <td>0.0</td>\n",
              "    </tr>\n",
              "  </tbody>\n",
              "</table>\n",
              "</div>"
            ],
            "text/plain": [
              "                  features  missing%\n",
              "0                  country       0.0\n",
              "1                     year       0.0\n",
              "2                 uniqueid       0.0\n",
              "3            location_type       0.0\n",
              "4         cellphone_access       0.0\n",
              "5           household_size       0.0\n",
              "6        age_of_respondent       0.0\n",
              "7     gender_of_respondent       0.0\n",
              "8   relationship_with_head       0.0\n",
              "9           marital_status       0.0\n",
              "10         education_level       0.0\n",
              "11                job_type       0.0"
            ]
          },
          "metadata": {
            "tags": []
          },
          "execution_count": 160
        }
      ]
    },
    {
      "cell_type": "code",
      "metadata": {
        "id": "ZfCGcGggxmmF",
        "colab": {
          "base_uri": "https://localhost:8080/",
          "height": 173
        },
        "outputId": "2d1cc6ba-0856-4fde-815f-acdd219b3c26"
      },
      "source": [
        "train.describe().T"
      ],
      "execution_count": null,
      "outputs": [
        {
          "output_type": "execute_result",
          "data": {
            "text/html": [
              "<div>\n",
              "<style scoped>\n",
              "    .dataframe tbody tr th:only-of-type {\n",
              "        vertical-align: middle;\n",
              "    }\n",
              "\n",
              "    .dataframe tbody tr th {\n",
              "        vertical-align: top;\n",
              "    }\n",
              "\n",
              "    .dataframe thead th {\n",
              "        text-align: right;\n",
              "    }\n",
              "</style>\n",
              "<table border=\"1\" class=\"dataframe\">\n",
              "  <thead>\n",
              "    <tr style=\"text-align: right;\">\n",
              "      <th></th>\n",
              "      <th>count</th>\n",
              "      <th>mean</th>\n",
              "      <th>std</th>\n",
              "      <th>min</th>\n",
              "      <th>25%</th>\n",
              "      <th>50%</th>\n",
              "      <th>75%</th>\n",
              "      <th>max</th>\n",
              "    </tr>\n",
              "  </thead>\n",
              "  <tbody>\n",
              "    <tr>\n",
              "      <th>year</th>\n",
              "      <td>23524.0</td>\n",
              "      <td>2016.975939</td>\n",
              "      <td>0.847371</td>\n",
              "      <td>2016.0</td>\n",
              "      <td>2016.0</td>\n",
              "      <td>2017.0</td>\n",
              "      <td>2018.0</td>\n",
              "      <td>2018.0</td>\n",
              "    </tr>\n",
              "    <tr>\n",
              "      <th>bank_account</th>\n",
              "      <td>23524.0</td>\n",
              "      <td>0.140792</td>\n",
              "      <td>0.347815</td>\n",
              "      <td>0.0</td>\n",
              "      <td>0.0</td>\n",
              "      <td>0.0</td>\n",
              "      <td>0.0</td>\n",
              "      <td>1.0</td>\n",
              "    </tr>\n",
              "    <tr>\n",
              "      <th>household_size</th>\n",
              "      <td>23524.0</td>\n",
              "      <td>3.681602</td>\n",
              "      <td>2.279956</td>\n",
              "      <td>0.0</td>\n",
              "      <td>2.0</td>\n",
              "      <td>3.0</td>\n",
              "      <td>5.0</td>\n",
              "      <td>21.0</td>\n",
              "    </tr>\n",
              "    <tr>\n",
              "      <th>age_of_respondent</th>\n",
              "      <td>23524.0</td>\n",
              "      <td>38.805220</td>\n",
              "      <td>16.520569</td>\n",
              "      <td>16.0</td>\n",
              "      <td>26.0</td>\n",
              "      <td>35.0</td>\n",
              "      <td>49.0</td>\n",
              "      <td>100.0</td>\n",
              "    </tr>\n",
              "  </tbody>\n",
              "</table>\n",
              "</div>"
            ],
            "text/plain": [
              "                     count         mean        std     min     25%     50%  \\\n",
              "year               23524.0  2016.975939   0.847371  2016.0  2016.0  2017.0   \n",
              "bank_account       23524.0     0.140792   0.347815     0.0     0.0     0.0   \n",
              "household_size     23524.0     3.681602   2.279956     0.0     2.0     3.0   \n",
              "age_of_respondent  23524.0    38.805220  16.520569    16.0    26.0    35.0   \n",
              "\n",
              "                      75%     max  \n",
              "year               2018.0  2018.0  \n",
              "bank_account          0.0     1.0  \n",
              "household_size        5.0    21.0  \n",
              "age_of_respondent    49.0   100.0  "
            ]
          },
          "metadata": {
            "tags": []
          },
          "execution_count": 161
        }
      ]
    },
    {
      "cell_type": "code",
      "metadata": {
        "id": "u6BfIdKkxmmP",
        "colab": {
          "base_uri": "https://localhost:8080/",
          "height": 142
        },
        "outputId": "562c897f-c056-4305-e46c-601c19f7f5ff"
      },
      "source": [
        "test.describe().T"
      ],
      "execution_count": null,
      "outputs": [
        {
          "output_type": "execute_result",
          "data": {
            "text/html": [
              "<div>\n",
              "<style scoped>\n",
              "    .dataframe tbody tr th:only-of-type {\n",
              "        vertical-align: middle;\n",
              "    }\n",
              "\n",
              "    .dataframe tbody tr th {\n",
              "        vertical-align: top;\n",
              "    }\n",
              "\n",
              "    .dataframe thead th {\n",
              "        text-align: right;\n",
              "    }\n",
              "</style>\n",
              "<table border=\"1\" class=\"dataframe\">\n",
              "  <thead>\n",
              "    <tr style=\"text-align: right;\">\n",
              "      <th></th>\n",
              "      <th>count</th>\n",
              "      <th>mean</th>\n",
              "      <th>std</th>\n",
              "      <th>min</th>\n",
              "      <th>25%</th>\n",
              "      <th>50%</th>\n",
              "      <th>75%</th>\n",
              "      <th>max</th>\n",
              "    </tr>\n",
              "  </thead>\n",
              "  <tbody>\n",
              "    <tr>\n",
              "      <th>year</th>\n",
              "      <td>10086.0</td>\n",
              "      <td>2016.975907</td>\n",
              "      <td>0.847356</td>\n",
              "      <td>2016.0</td>\n",
              "      <td>2016.0</td>\n",
              "      <td>2017.0</td>\n",
              "      <td>2018.0</td>\n",
              "      <td>2018.0</td>\n",
              "    </tr>\n",
              "    <tr>\n",
              "      <th>household_size</th>\n",
              "      <td>10086.0</td>\n",
              "      <td>3.661511</td>\n",
              "      <td>2.265658</td>\n",
              "      <td>0.0</td>\n",
              "      <td>2.0</td>\n",
              "      <td>3.0</td>\n",
              "      <td>5.0</td>\n",
              "      <td>20.0</td>\n",
              "    </tr>\n",
              "    <tr>\n",
              "      <th>age_of_respondent</th>\n",
              "      <td>10086.0</td>\n",
              "      <td>38.308348</td>\n",
              "      <td>16.270053</td>\n",
              "      <td>16.0</td>\n",
              "      <td>26.0</td>\n",
              "      <td>35.0</td>\n",
              "      <td>48.0</td>\n",
              "      <td>100.0</td>\n",
              "    </tr>\n",
              "  </tbody>\n",
              "</table>\n",
              "</div>"
            ],
            "text/plain": [
              "                     count         mean        std     min     25%     50%  \\\n",
              "year               10086.0  2016.975907   0.847356  2016.0  2016.0  2017.0   \n",
              "household_size     10086.0     3.661511   2.265658     0.0     2.0     3.0   \n",
              "age_of_respondent  10086.0    38.308348  16.270053    16.0    26.0    35.0   \n",
              "\n",
              "                      75%     max  \n",
              "year               2018.0  2018.0  \n",
              "household_size        5.0    20.0  \n",
              "age_of_respondent    48.0   100.0  "
            ]
          },
          "metadata": {
            "tags": []
          },
          "execution_count": 162
        }
      ]
    },
    {
      "cell_type": "code",
      "metadata": {
        "id": "MzkoYZdRxmmY"
      },
      "source": [
        ""
      ],
      "execution_count": null,
      "outputs": []
    },
    {
      "cell_type": "markdown",
      "metadata": {
        "id": "baX6y-EAxmmh"
      },
      "source": [
        "# Unique_features"
      ]
    },
    {
      "cell_type": "code",
      "metadata": {
        "id": "iSiYdbw9xmmk",
        "colab": {
          "base_uri": "https://localhost:8080/",
          "height": 204
        },
        "outputId": "9cab5270-372b-485b-cd49-f3e660e7cb47"
      },
      "source": [
        "feat_counts=train.nunique(dropna=False)\n",
        "feat_counts.sort_values()[:10]"
      ],
      "execution_count": null,
      "outputs": [
        {
          "output_type": "execute_result",
          "data": {
            "text/plain": [
              "bank_account               2\n",
              "location_type              2\n",
              "cellphone_access           2\n",
              "gender_of_respondent       2\n",
              "year                       3\n",
              "country                    4\n",
              "marital_status             5\n",
              "relationship_with_head     6\n",
              "education_level            7\n",
              "job_type                  10\n",
              "dtype: int64"
            ]
          },
          "metadata": {
            "tags": []
          },
          "execution_count": 163
        }
      ]
    },
    {
      "cell_type": "markdown",
      "metadata": {
        "id": "Hrq_rPk5xmmu"
      },
      "source": [
        "# Constant_features"
      ]
    },
    {
      "cell_type": "code",
      "metadata": {
        "id": "IDiwhdQRxmmw",
        "colab": {
          "base_uri": "https://localhost:8080/",
          "height": 34
        },
        "outputId": "60708d7a-0fdc-4719-ec0f-218b00a2759d"
      },
      "source": [
        "constant_features = feat_counts.loc[feat_counts==1].index.tolist()\n",
        "print (constant_features)"
      ],
      "execution_count": null,
      "outputs": [
        {
          "output_type": "stream",
          "text": [
            "[]\n"
          ],
          "name": "stdout"
        }
      ]
    },
    {
      "cell_type": "markdown",
      "metadata": {
        "id": "o2h4_ZZyxmnE"
      },
      "source": [
        "# have a look at categorical and numerical columns"
      ]
    },
    {
      "cell_type": "code",
      "metadata": {
        "id": "W9cDXwrFxmnG"
      },
      "source": [
        "cat_cols = list(train.select_dtypes(include=['object']).columns)\n",
        "num_cols = list(train.select_dtypes(exclude=['object']).columns)"
      ],
      "execution_count": null,
      "outputs": []
    },
    {
      "cell_type": "code",
      "metadata": {
        "id": "MRBtenj-xmnO",
        "colab": {
          "base_uri": "https://localhost:8080/",
          "height": 71
        },
        "outputId": "39be109f-9f6b-43b0-a148-a0506f22baa5"
      },
      "source": [
        "print(num_cols)\n",
        "print(cat_cols)"
      ],
      "execution_count": null,
      "outputs": [
        {
          "output_type": "stream",
          "text": [
            "['year', 'bank_account', 'household_size', 'age_of_respondent']\n",
            "['country', 'uniqueid', 'location_type', 'cellphone_access', 'gender_of_respondent', 'relationship_with_head', 'marital_status', 'education_level', 'job_type']\n"
          ],
          "name": "stdout"
        }
      ]
    },
    {
      "cell_type": "markdown",
      "metadata": {
        "id": "38M4NbdCxmnX"
      },
      "source": [
        "# Analysis by pivoting features"
      ]
    },
    {
      "cell_type": "markdown",
      "metadata": {
        "id": "62Rwi-3OxmnZ"
      },
      "source": [
        "1.country"
      ]
    },
    {
      "cell_type": "code",
      "metadata": {
        "id": "6iEp4OQaxmnb",
        "colab": {
          "base_uri": "https://localhost:8080/",
          "height": 173
        },
        "outputId": "0c6f8537-ccdc-4ee5-fe16-4d1ba2b81d28"
      },
      "source": [
        "train[['country', 'bank_account']].groupby(['country'], as_index=False).mean().sort_values(by='bank_account', ascending=False)"
      ],
      "execution_count": null,
      "outputs": [
        {
          "output_type": "execute_result",
          "data": {
            "text/html": [
              "<div>\n",
              "<style scoped>\n",
              "    .dataframe tbody tr th:only-of-type {\n",
              "        vertical-align: middle;\n",
              "    }\n",
              "\n",
              "    .dataframe tbody tr th {\n",
              "        vertical-align: top;\n",
              "    }\n",
              "\n",
              "    .dataframe thead th {\n",
              "        text-align: right;\n",
              "    }\n",
              "</style>\n",
              "<table border=\"1\" class=\"dataframe\">\n",
              "  <thead>\n",
              "    <tr style=\"text-align: right;\">\n",
              "      <th></th>\n",
              "      <th>country</th>\n",
              "      <th>bank_account</th>\n",
              "    </tr>\n",
              "  </thead>\n",
              "  <tbody>\n",
              "    <tr>\n",
              "      <th>0</th>\n",
              "      <td>Kenya</td>\n",
              "      <td>0.250659</td>\n",
              "    </tr>\n",
              "    <tr>\n",
              "      <th>1</th>\n",
              "      <td>Rwanda</td>\n",
              "      <td>0.114825</td>\n",
              "    </tr>\n",
              "    <tr>\n",
              "      <th>2</th>\n",
              "      <td>Tanzania</td>\n",
              "      <td>0.091692</td>\n",
              "    </tr>\n",
              "    <tr>\n",
              "      <th>3</th>\n",
              "      <td>Uganda</td>\n",
              "      <td>0.086149</td>\n",
              "    </tr>\n",
              "  </tbody>\n",
              "</table>\n",
              "</div>"
            ],
            "text/plain": [
              "    country  bank_account\n",
              "0     Kenya      0.250659\n",
              "1    Rwanda      0.114825\n",
              "2  Tanzania      0.091692\n",
              "3    Uganda      0.086149"
            ]
          },
          "metadata": {
            "tags": []
          },
          "execution_count": 167
        }
      ]
    },
    {
      "cell_type": "markdown",
      "metadata": {
        "id": "grBTorUwxmnm"
      },
      "source": [
        "2.location_type"
      ]
    },
    {
      "cell_type": "code",
      "metadata": {
        "id": "Vh9y8r9fxmno",
        "colab": {
          "base_uri": "https://localhost:8080/",
          "height": 111
        },
        "outputId": "4fd0c436-b708-49c6-d9d0-f99c3224f33f"
      },
      "source": [
        "train[['location_type', 'bank_account']].groupby(['location_type'], as_index=False).mean().sort_values(by='bank_account', ascending=False)"
      ],
      "execution_count": null,
      "outputs": [
        {
          "output_type": "execute_result",
          "data": {
            "text/html": [
              "<div>\n",
              "<style scoped>\n",
              "    .dataframe tbody tr th:only-of-type {\n",
              "        vertical-align: middle;\n",
              "    }\n",
              "\n",
              "    .dataframe tbody tr th {\n",
              "        vertical-align: top;\n",
              "    }\n",
              "\n",
              "    .dataframe thead th {\n",
              "        text-align: right;\n",
              "    }\n",
              "</style>\n",
              "<table border=\"1\" class=\"dataframe\">\n",
              "  <thead>\n",
              "    <tr style=\"text-align: right;\">\n",
              "      <th></th>\n",
              "      <th>location_type</th>\n",
              "      <th>bank_account</th>\n",
              "    </tr>\n",
              "  </thead>\n",
              "  <tbody>\n",
              "    <tr>\n",
              "      <th>1</th>\n",
              "      <td>Urban</td>\n",
              "      <td>0.178739</td>\n",
              "    </tr>\n",
              "    <tr>\n",
              "      <th>0</th>\n",
              "      <td>Rural</td>\n",
              "      <td>0.116503</td>\n",
              "    </tr>\n",
              "  </tbody>\n",
              "</table>\n",
              "</div>"
            ],
            "text/plain": [
              "  location_type  bank_account\n",
              "1         Urban      0.178739\n",
              "0         Rural      0.116503"
            ]
          },
          "metadata": {
            "tags": []
          },
          "execution_count": 168
        }
      ]
    },
    {
      "cell_type": "markdown",
      "metadata": {
        "id": "funyaNKQxmnx"
      },
      "source": [
        "3.education_level"
      ]
    },
    {
      "cell_type": "code",
      "metadata": {
        "id": "yd5UFxdHxmny",
        "colab": {
          "base_uri": "https://localhost:8080/",
          "height": 266
        },
        "outputId": "9d6de664-12b7-4dc0-f43b-bb14ce502088"
      },
      "source": [
        "train[['education_level', 'bank_account']].groupby(['education_level'], as_index=False).mean().sort_values(by='bank_account', ascending=False)"
      ],
      "execution_count": null,
      "outputs": [
        {
          "output_type": "execute_result",
          "data": {
            "text/html": [
              "<div>\n",
              "<style scoped>\n",
              "    .dataframe tbody tr th:only-of-type {\n",
              "        vertical-align: middle;\n",
              "    }\n",
              "\n",
              "    .dataframe tbody tr th {\n",
              "        vertical-align: top;\n",
              "    }\n",
              "\n",
              "    .dataframe thead th {\n",
              "        text-align: right;\n",
              "    }\n",
              "</style>\n",
              "<table border=\"1\" class=\"dataframe\">\n",
              "  <thead>\n",
              "    <tr style=\"text-align: right;\">\n",
              "      <th></th>\n",
              "      <th>education_level</th>\n",
              "      <th>bank_account</th>\n",
              "    </tr>\n",
              "  </thead>\n",
              "  <tbody>\n",
              "    <tr>\n",
              "      <th>2</th>\n",
              "      <td>Other/Dont know/RTA</td>\n",
              "      <td>0.750000</td>\n",
              "    </tr>\n",
              "    <tr>\n",
              "      <th>6</th>\n",
              "      <td>Vocational/Specialised training</td>\n",
              "      <td>0.570361</td>\n",
              "    </tr>\n",
              "    <tr>\n",
              "      <th>5</th>\n",
              "      <td>Tertiary education</td>\n",
              "      <td>0.510804</td>\n",
              "    </tr>\n",
              "    <tr>\n",
              "      <th>4</th>\n",
              "      <td>Secondary education</td>\n",
              "      <td>0.232773</td>\n",
              "    </tr>\n",
              "    <tr>\n",
              "      <th>0</th>\n",
              "      <td>6</td>\n",
              "      <td>0.185185</td>\n",
              "    </tr>\n",
              "    <tr>\n",
              "      <th>3</th>\n",
              "      <td>Primary education</td>\n",
              "      <td>0.085451</td>\n",
              "    </tr>\n",
              "    <tr>\n",
              "      <th>1</th>\n",
              "      <td>No formal education</td>\n",
              "      <td>0.038981</td>\n",
              "    </tr>\n",
              "  </tbody>\n",
              "</table>\n",
              "</div>"
            ],
            "text/plain": [
              "                   education_level  bank_account\n",
              "2              Other/Dont know/RTA      0.750000\n",
              "6  Vocational/Specialised training      0.570361\n",
              "5               Tertiary education      0.510804\n",
              "4              Secondary education      0.232773\n",
              "0                                6      0.185185\n",
              "3                Primary education      0.085451\n",
              "1              No formal education      0.038981"
            ]
          },
          "metadata": {
            "tags": []
          },
          "execution_count": 169
        }
      ]
    },
    {
      "cell_type": "markdown",
      "metadata": {
        "id": "EGUnvUyzxmn7"
      },
      "source": [
        "# Concat the two datasets"
      ]
    },
    {
      "cell_type": "code",
      "metadata": {
        "id": "pILoSj9dxmn8"
      },
      "source": [
        "split=train.shape[0]\n",
        "datasets=pd.concat([train,test],axis=0)"
      ],
      "execution_count": null,
      "outputs": []
    },
    {
      "cell_type": "markdown",
      "metadata": {
        "id": "hvDLpd9RxmoE"
      },
      "source": [
        "# Numerica Data"
      ]
    },
    {
      "cell_type": "code",
      "metadata": {
        "id": "4G38BH2fxmoH",
        "colab": {
          "base_uri": "https://localhost:8080/",
          "height": 51
        },
        "outputId": "740b8508-0fdb-4180-c0f0-d1638023e674"
      },
      "source": [
        "#1.age\n",
        "print(\"Maximum Age\",datasets['age_of_respondent'].max())\n",
        "print(\"Minimun Age\",datasets['age_of_respondent'].min())"
      ],
      "execution_count": null,
      "outputs": [
        {
          "output_type": "stream",
          "text": [
            "Maximum Age 100\n",
            "Minimun Age 16\n"
          ],
          "name": "stdout"
        }
      ]
    },
    {
      "cell_type": "code",
      "metadata": {
        "id": "k6Rju84mxmoU",
        "colab": {
          "base_uri": "https://localhost:8080/",
          "height": 383
        },
        "outputId": "adb7aba8-7c7f-4243-83c1-764c145fb120"
      },
      "source": [
        "#Visualizing Age\n",
        "fig,ax=plt.subplots()\n",
        "fig.set_size_inches(25,10)\n",
        "sns.countplot(x='age_of_respondent',data=datasets)\n",
        "ax.set_xlabel('Age of Respondent',fontsize=15)\n",
        "ax.set_ylabel('count',fontsize=15)\n",
        "ax.set_title(\"Age Distrinution\",fontsize=15)\n",
        "sns.despine()"
      ],
      "execution_count": null,
      "outputs": [
        {
          "output_type": "display_data",
          "data": {
            "image/png": "[encoded data removed]",
            "text/plain": [
              "<Figure size 1800x720 with 1 Axes>"
            ]
          },
          "metadata": {
            "tags": [],
            "needs_background": "light"
          }
        }
      ]
    },
    {
      "cell_type": "code",
      "metadata": {
        "id": "XBz4qtfdxmoe",
        "colab": {
          "base_uri": "https://localhost:8080/",
          "height": 349
        },
        "outputId": "9db4ec59-1d68-4fa1-f605-9b89673477dc"
      },
      "source": [
        "fig,(ax1,ax2)=plt.subplots(nrows=1,ncols=2,figsize=(15,5))\n",
        "sns.boxplot(x='age_of_respondent',data=datasets,orient='v',ax=ax1)\n",
        "ax1.set_xlabel('pple''s_respondent',fontsize=15)\n",
        "ax1.set_ylabel('age_of_respondent',fontsize=15)\n",
        "ax1.set_title('Age Distribution')\n",
        "ax1.tick_params(labelsize=15)\n",
        "\n",
        "sns.distplot(datasets['age_of_respondent'],ax=ax2)\n",
        "ax2.set_xlabel('Age_of_responden',fontsize=15)\n",
        "ax2.set_ylabel('Occurrence',fontsize=15)\n",
        "ax2.set_title(\"Age occurrence\")\n",
        "sns.despine(ax=ax2)\n",
        "ax2.tick_params(labelsize=15)\n"
      ],
      "execution_count": null,
      "outputs": [
        {
          "output_type": "display_data",
          "data": {
            "image/png": "[encoded data removed]",
            "text/plain": [
              "<Figure size 1080x360 with 2 Axes>"
            ]
          },
          "metadata": {
            "tags": [],
            "needs_background": "light"
          }
        }
      ]
    },
    {
      "cell_type": "code",
      "metadata": {
        "id": "S0gzQoqwxmom",
        "colab": {
          "base_uri": "https://localhost:8080/",
          "height": 85
        },
        "outputId": "04b4acd8-84e6-46a6-e465-080915f617d9"
      },
      "source": [
        "#Calculating quartiles\n",
        "print('1st quartile',datasets['age_of_respondent'].quantile(q=0.25))\n",
        "print('2nd quartile',datasets['age_of_respondent'].quantile(q=0.5))\n",
        "print('3rd quartile',datasets['age_of_respondent'].quantile(q=0.75))\n",
        "print('4th quartile',datasets['age_of_respondent'].quantile(q=1))"
      ],
      "execution_count": null,
      "outputs": [
        {
          "output_type": "stream",
          "text": [
            "1st quartile 26.0\n",
            "2nd quartile 35.0\n",
            "3rd quartile 49.0\n",
            "4th quartile 100.0\n"
          ],
          "name": "stdout"
        }
      ]
    },
    {
      "cell_type": "code",
      "metadata": {
        "id": "IQVR53fvxmov",
        "colab": {
          "base_uri": "https://localhost:8080/",
          "height": 34
        },
        "outputId": "21344ac5-f616-494d-f021-44a7b6a05322"
      },
      "source": [
        "#checking for possibility of outliers in age\n",
        "'''\n",
        "InterquartileRange,IQR=Q3-Q1\n",
        "lower 1.5*IQR whisker=Q1-1.5*IQR\n",
        "upper 1.5*IQR whisker=Q3+1.5*IQR\n",
        "'''\n",
        "print('Ages Above',datasets['age_of_respondent'].quantile(q=0.75)+1.5*(datasets['age_of_respondent'].quantile(q=0.75)-datasets['age_of_respondent'].quantile(q=0.25)),'seems to be outliers')"
      ],
      "execution_count": null,
      "outputs": [
        {
          "output_type": "stream",
          "text": [
            "Ages Above 83.5 seems to be outliers\n"
          ],
          "name": "stdout"
        }
      ]
    },
    {
      "cell_type": "code",
      "metadata": {
        "id": "pF5uAmpexmo6",
        "colab": {
          "base_uri": "https://localhost:8080/",
          "height": 51
        },
        "outputId": "cb08398e-d841-4d59-fba2-91e263ff50ce"
      },
      "source": [
        "#print number of outliers\n",
        "print('number of respondents above 83.5 are:',datasets[datasets['age_of_respondent']>83.5]['age_of_respondent'].count())\n",
        "print('% above 83.5:',datasets[datasets['age_of_respondent']>83.5]['age_of_respondent'].count()/len(datasets)*100,'%')"
      ],
      "execution_count": null,
      "outputs": [
        {
          "output_type": "stream",
          "text": [
            "number of respondents above 83.5 are: 327\n",
            "% above 83.5: 0.9729247247842904 %\n"
          ],
          "name": "stdout"
        }
      ]
    },
    {
      "cell_type": "markdown",
      "metadata": {
        "id": "YsP_YnU5xmpB"
      },
      "source": [
        "# 2.Household size"
      ]
    },
    {
      "cell_type": "code",
      "metadata": {
        "id": "u1Gfm1m0xmpD",
        "colab": {
          "base_uri": "https://localhost:8080/",
          "height": 51
        },
        "outputId": "d61ac84d-c10e-45d8-abf2-6176b1a945b7"
      },
      "source": [
        "\n",
        "print(\"Maximum household size\",datasets['household_size'].max())\n",
        "print(\"Minimun household size\",datasets['household_size'].min())"
      ],
      "execution_count": null,
      "outputs": [
        {
          "output_type": "stream",
          "text": [
            "Maximum household size 21\n",
            "Minimun household size 0\n"
          ],
          "name": "stdout"
        }
      ]
    },
    {
      "cell_type": "code",
      "metadata": {
        "id": "0rPJjBuixmpL",
        "colab": {
          "base_uri": "https://localhost:8080/",
          "height": 385
        },
        "outputId": "2bc88f1b-3735-4f24-b9aa-3240e7ffc767"
      },
      "source": [
        "#Visualizing Age\n",
        "fig,ax=plt.subplots()\n",
        "fig.set_size_inches(25,10)\n",
        "sns.countplot(x='household_size',data=datasets)\n",
        "ax.set_xlabel('household_size',fontsize=15)\n",
        "ax.set_ylabel('count',fontsize=15)\n",
        "ax.set_title(\"household_size Distribution\",fontsize=15)\n",
        "sns.despine()"
      ],
      "execution_count": null,
      "outputs": [
        {
          "output_type": "display_data",
          "data": {
            "image/png": "[encoded data removed]",
            "text/plain": [
              "<Figure size 1800x720 with 1 Axes>"
            ]
          },
          "metadata": {
            "tags": [],
            "needs_background": "light"
          }
        }
      ]
    },
    {
      "cell_type": "code",
      "metadata": {
        "id": "NbWysAfbxmpS",
        "colab": {
          "base_uri": "https://localhost:8080/",
          "height": 353
        },
        "outputId": "a9a7adc0-1cc0-4639-f181-c269082f5257"
      },
      "source": [
        "fig,(ax1,ax2)=plt.subplots(nrows=1,ncols=2,figsize=(15,5))\n",
        "sns.boxplot(x='household_size',data=datasets,orient='v',ax=ax1)\n",
        "ax1.set_xlabel('pple''s_respondent',fontsize=15)\n",
        "ax1.set_ylabel('household_size',fontsize=15)\n",
        "ax1.set_title('household_size Distribution')\n",
        "ax1.tick_params(labelsize=15)\n",
        "\n",
        "sns.distplot(datasets['household_size'],ax=ax2)\n",
        "ax2.set_xlabel('household_size',fontsize=15)\n",
        "ax2.set_ylabel('Occurrence',fontsize=15)\n",
        "ax2.set_title(\"household_size occurrence\")\n",
        "sns.despine(ax=ax2)\n",
        "ax2.tick_params(labelsize=15)\n"
      ],
      "execution_count": null,
      "outputs": [
        {
          "output_type": "display_data",
          "data": {
            "image/png": "[encoded data removed]",
            "text/plain": [
              "<Figure size 1080x360 with 2 Axes>"
            ]
          },
          "metadata": {
            "tags": [],
            "needs_background": "light"
          }
        }
      ]
    },
    {
      "cell_type": "markdown",
      "metadata": {
        "id": "UmJdHn9Ixmpd"
      },
      "source": [
        "# Categorical Variables"
      ]
    },
    {
      "cell_type": "code",
      "metadata": {
        "id": "cvA8p2d1xmpf",
        "colab": {
          "base_uri": "https://localhost:8080/",
          "height": 264
        },
        "outputId": "d56aa64d-f28d-429f-95fa-f4839fa5bc25"
      },
      "source": [
        "#1.job type\n",
        "fig, ax = plt.subplots()\n",
        "fig.set_size_inches(20, 5)\n",
        "sns.countplot(x = 'job_type', data = datasets)\n",
        "ax.set_xlabel('job_type', fontsize=10)\n",
        "ax.set_ylabel('Count', fontsize=10)\n",
        "ax.set_title('job Count Distribution', fontsize=10)\n",
        "ax.tick_params(labelsize=10)\n",
        "sns.despine()"
      ],
      "execution_count": null,
      "outputs": [
        {
          "output_type": "display_data",
          "data": {
            "image/png": "[encoded data removed]",
            "text/plain": [
              "<Figure size 1440x360 with 1 Axes>"
            ]
          },
          "metadata": {
            "tags": [],
            "needs_background": "light"
          }
        }
      ]
    },
    {
      "cell_type": "code",
      "metadata": {
        "id": "DMtfYc9xxmpn",
        "colab": {
          "base_uri": "https://localhost:8080/",
          "height": 268
        },
        "outputId": "df5848db-2c8a-4f70-c2d3-fb916afbaea3"
      },
      "source": [
        "#2.Marital status\n",
        "fig, ax = plt.subplots()\n",
        "fig.set_size_inches(20, 5)\n",
        "sns.countplot(x = 'marital_status', data = datasets)\n",
        "ax.set_xlabel('Marital', fontsize=15)\n",
        "ax.set_ylabel('Count', fontsize=15)\n",
        "ax.set_title('marital Count Distribution', fontsize=15)\n",
        "ax.tick_params(labelsize=15)\n",
        "sns.despine()"
      ],
      "execution_count": null,
      "outputs": [
        {
          "output_type": "display_data",
          "data": {
            "image/png": "[encoded data removed]",
            "text/plain": [
              "<Figure size 1440x360 with 1 Axes>"
            ]
          },
          "metadata": {
            "tags": [],
            "needs_background": "light"
          }
        }
      ]
    },
    {
      "cell_type": "code",
      "metadata": {
        "id": "6WesIdBlxmpw",
        "colab": {
          "base_uri": "https://localhost:8080/",
          "height": 221
        },
        "outputId": "8112b70a-7594-4515-dfc8-44af30e18b02"
      },
      "source": [
        "#3.Education\n",
        "fig, ax = plt.subplots()\n",
        "fig.set_size_inches(25, 5)\n",
        "sns.countplot(x = 'education_level', data = datasets)\n",
        "ax.set_xlabel('Education', fontsize=15)\n",
        "ax.set_ylabel('Count', fontsize=15)\n",
        "ax.set_title('Education Count Distribution', fontsize=15)\n",
        "ax.tick_params(labelsize=15)\n",
        "sns.despine()"
      ],
      "execution_count": null,
      "outputs": [
        {
          "output_type": "display_data",
          "data": {
            "image/png": "[encoded data removed]",
            "text/plain": [
              "<Figure size 1800x360 with 1 Axes>"
            ]
          },
          "metadata": {
            "tags": [],
            "needs_background": "light"
          }
        }
      ]
    },
    {
      "cell_type": "code",
      "metadata": {
        "id": "H4HEB5TVxmp6",
        "colab": {
          "base_uri": "https://localhost:8080/",
          "height": 221
        },
        "outputId": "0443f448-bff7-4a72-d076-a4d780130886"
      },
      "source": [
        "#.country\n",
        "fig, ax = plt.subplots()\n",
        "fig.set_size_inches(25, 5)\n",
        "sns.countplot(x = 'country', data = datasets)\n",
        "ax.set_xlabel('country', fontsize=15)\n",
        "ax.set_ylabel('Count', fontsize=15)\n",
        "ax.set_title('country', fontsize=15)\n",
        "ax.tick_params(labelsize=15)\n",
        "sns.despine()"
      ],
      "execution_count": null,
      "outputs": [
        {
          "output_type": "display_data",
          "data": {
            "image/png": "[encoded data removed]",
            "text/plain": [
              "<Figure size 1800x360 with 1 Axes>"
            ]
          },
          "metadata": {
            "tags": [],
            "needs_background": "light"
          }
        }
      ]
    },
    {
      "cell_type": "markdown",
      "metadata": {
        "id": "baQfi2E6xmqB"
      },
      "source": [
        "# LOcation"
      ]
    },
    {
      "cell_type": "code",
      "metadata": {
        "id": "UKQe2dnmxmqC",
        "colab": {
          "base_uri": "https://localhost:8080/",
          "height": 221
        },
        "outputId": "503a5b06-0216-43b2-f6e4-3c08e5906a47"
      },
      "source": [
        "fig, ax = plt.subplots()\n",
        "fig.set_size_inches(25, 5)\n",
        "sns.countplot(x = 'location_type', data = datasets)\n",
        "ax.set_xlabel('location_type', fontsize=15)\n",
        "ax.set_ylabel('Count', fontsize=15)\n",
        "ax.set_title('location', fontsize=15)\n",
        "ax.tick_params(labelsize=15)\n",
        "sns.despine()"
      ],
      "execution_count": null,
      "outputs": [
        {
          "output_type": "display_data",
          "data": {
            "image/png": "[encoded data removed]",
            "text/plain": [
              "<Figure size 1800x360 with 1 Axes>"
            ]
          },
          "metadata": {
            "tags": [],
            "needs_background": "light"
          }
        }
      ]
    },
    {
      "cell_type": "markdown",
      "metadata": {
        "id": "A1UaYgmtxmqL"
      },
      "source": [
        "# 6.Cellophone access"
      ]
    },
    {
      "cell_type": "code",
      "metadata": {
        "id": "y5SBWWN5xmqN",
        "colab": {
          "base_uri": "https://localhost:8080/",
          "height": 221
        },
        "outputId": "94faa174-ec46-4468-cf87-614ab82e27cf"
      },
      "source": [
        "fig, ax = plt.subplots()\n",
        "fig.set_size_inches(25, 5)\n",
        "sns.countplot(x = 'cellphone_access', data = datasets)\n",
        "ax.set_xlabel('cellphone_access', fontsize=15)\n",
        "ax.set_ylabel('Count', fontsize=15)\n",
        "ax.set_title('cellphone_access', fontsize=15)\n",
        "ax.tick_params(labelsize=15)\n",
        "sns.despine()"
      ],
      "execution_count": null,
      "outputs": [
        {
          "output_type": "display_data",
          "data": {
            "image/png": "[encoded data removed]",
            "text/plain": [
              "<Figure size 1800x360 with 1 Axes>"
            ]
          },
          "metadata": {
            "tags": [],
            "needs_background": "light"
          }
        }
      ]
    },
    {
      "cell_type": "markdown",
      "metadata": {
        "id": "OW6DXHQpxmqX"
      },
      "source": [
        "# Feature Engineering"
      ]
    },
    {
      "cell_type": "code",
      "metadata": {
        "id": "r8BoRXxbxmqY"
      },
      "source": [
        "i_cols=['age_of_respondent','household_size','year']"
      ],
      "execution_count": null,
      "outputs": []
    },
    {
      "cell_type": "code",
      "metadata": {
        "id": "nKKylZoCxmqf"
      },
      "source": [
        "for col in i_cols:\n",
        "    fq_encode = datasets[col].value_counts().to_dict()   \n",
        "    datasets[col+'_fq_enc'] = datasets[col].map(fq_encode)"
      ],
      "execution_count": null,
      "outputs": []
    },
    {
      "cell_type": "code",
      "metadata": {
        "id": "b5E9C0xfxmqo",
        "colab": {
          "base_uri": "https://localhost:8080/",
          "height": 326
        },
        "outputId": "17ff8bb5-b580-4eaf-8cc3-d9c8b77ba82f"
      },
      "source": [
        "datasets.head()"
      ],
      "execution_count": null,
      "outputs": [
        {
          "output_type": "execute_result",
          "data": {
            "text/html": [
              "<div>\n",
              "<style scoped>\n",
              "    .dataframe tbody tr th:only-of-type {\n",
              "        vertical-align: middle;\n",
              "    }\n",
              "\n",
              "    .dataframe tbody tr th {\n",
              "        vertical-align: top;\n",
              "    }\n",
              "\n",
              "    .dataframe thead th {\n",
              "        text-align: right;\n",
              "    }\n",
              "</style>\n",
              "<table border=\"1\" class=\"dataframe\">\n",
              "  <thead>\n",
              "    <tr style=\"text-align: right;\">\n",
              "      <th></th>\n",
              "      <th>country</th>\n",
              "      <th>year</th>\n",
              "      <th>uniqueid</th>\n",
              "      <th>bank_account</th>\n",
              "      <th>location_type</th>\n",
              "      <th>cellphone_access</th>\n",
              "      <th>household_size</th>\n",
              "      <th>age_of_respondent</th>\n",
              "      <th>gender_of_respondent</th>\n",
              "      <th>relationship_with_head</th>\n",
              "      <th>marital_status</th>\n",
              "      <th>education_level</th>\n",
              "      <th>job_type</th>\n",
              "      <th>age_of_respondent_fq_enc</th>\n",
              "      <th>household_size_fq_enc</th>\n",
              "      <th>year_fq_enc</th>\n",
              "    </tr>\n",
              "  </thead>\n",
              "  <tbody>\n",
              "    <tr>\n",
              "      <th>0</th>\n",
              "      <td>Kenya</td>\n",
              "      <td>2018</td>\n",
              "      <td>uniqueid_1</td>\n",
              "      <td>1.0</td>\n",
              "      <td>Rural</td>\n",
              "      <td>Yes</td>\n",
              "      <td>3</td>\n",
              "      <td>24</td>\n",
              "      <td>Female</td>\n",
              "      <td>Spouse</td>\n",
              "      <td>Married/Living together</td>\n",
              "      <td>Secondary education</td>\n",
              "      <td>Self employed</td>\n",
              "      <td>826</td>\n",
              "      <td>5015</td>\n",
              "      <td>11671</td>\n",
              "    </tr>\n",
              "    <tr>\n",
              "      <th>1</th>\n",
              "      <td>Kenya</td>\n",
              "      <td>2018</td>\n",
              "      <td>uniqueid_2</td>\n",
              "      <td>0.0</td>\n",
              "      <td>Rural</td>\n",
              "      <td>No</td>\n",
              "      <td>5</td>\n",
              "      <td>70</td>\n",
              "      <td>Female</td>\n",
              "      <td>Head of Household</td>\n",
              "      <td>Widowed</td>\n",
              "      <td>No formal education</td>\n",
              "      <td>Government Dependent</td>\n",
              "      <td>396</td>\n",
              "      <td>3963</td>\n",
              "      <td>11671</td>\n",
              "    </tr>\n",
              "    <tr>\n",
              "      <th>2</th>\n",
              "      <td>Kenya</td>\n",
              "      <td>2018</td>\n",
              "      <td>uniqueid_3</td>\n",
              "      <td>1.0</td>\n",
              "      <td>Urban</td>\n",
              "      <td>Yes</td>\n",
              "      <td>5</td>\n",
              "      <td>26</td>\n",
              "      <td>Male</td>\n",
              "      <td>Other relative</td>\n",
              "      <td>Single/Never Married</td>\n",
              "      <td>Vocational/Specialised training</td>\n",
              "      <td>Self employed</td>\n",
              "      <td>854</td>\n",
              "      <td>3963</td>\n",
              "      <td>11671</td>\n",
              "    </tr>\n",
              "    <tr>\n",
              "      <th>3</th>\n",
              "      <td>Kenya</td>\n",
              "      <td>2018</td>\n",
              "      <td>uniqueid_4</td>\n",
              "      <td>0.0</td>\n",
              "      <td>Rural</td>\n",
              "      <td>Yes</td>\n",
              "      <td>5</td>\n",
              "      <td>34</td>\n",
              "      <td>Female</td>\n",
              "      <td>Head of Household</td>\n",
              "      <td>Married/Living together</td>\n",
              "      <td>Primary education</td>\n",
              "      <td>Formally employed Private</td>\n",
              "      <td>754</td>\n",
              "      <td>3963</td>\n",
              "      <td>11671</td>\n",
              "    </tr>\n",
              "    <tr>\n",
              "      <th>4</th>\n",
              "      <td>Kenya</td>\n",
              "      <td>2018</td>\n",
              "      <td>uniqueid_5</td>\n",
              "      <td>0.0</td>\n",
              "      <td>Urban</td>\n",
              "      <td>No</td>\n",
              "      <td>8</td>\n",
              "      <td>26</td>\n",
              "      <td>Male</td>\n",
              "      <td>Child</td>\n",
              "      <td>Single/Never Married</td>\n",
              "      <td>Primary education</td>\n",
              "      <td>Informally employed</td>\n",
              "      <td>854</td>\n",
              "      <td>1055</td>\n",
              "      <td>11671</td>\n",
              "    </tr>\n",
              "  </tbody>\n",
              "</table>\n",
              "</div>"
            ],
            "text/plain": [
              "  country  year    uniqueid  bank_account location_type cellphone_access  \\\n",
              "0   Kenya  2018  uniqueid_1           1.0         Rural              Yes   \n",
              "1   Kenya  2018  uniqueid_2           0.0         Rural               No   \n",
              "2   Kenya  2018  uniqueid_3           1.0         Urban              Yes   \n",
              "3   Kenya  2018  uniqueid_4           0.0         Rural              Yes   \n",
              "4   Kenya  2018  uniqueid_5           0.0         Urban               No   \n",
              "\n",
              "   household_size  age_of_respondent gender_of_respondent  \\\n",
              "0               3                 24               Female   \n",
              "1               5                 70               Female   \n",
              "2               5                 26                 Male   \n",
              "3               5                 34               Female   \n",
              "4               8                 26                 Male   \n",
              "\n",
              "  relationship_with_head           marital_status  \\\n",
              "0                 Spouse  Married/Living together   \n",
              "1      Head of Household                  Widowed   \n",
              "2         Other relative     Single/Never Married   \n",
              "3      Head of Household  Married/Living together   \n",
              "4                  Child     Single/Never Married   \n",
              "\n",
              "                   education_level                   job_type  \\\n",
              "0              Secondary education              Self employed   \n",
              "1              No formal education       Government Dependent   \n",
              "2  Vocational/Specialised training              Self employed   \n",
              "3                Primary education  Formally employed Private   \n",
              "4                Primary education        Informally employed   \n",
              "\n",
              "   age_of_respondent_fq_enc  household_size_fq_enc  year_fq_enc  \n",
              "0                       826                   5015        11671  \n",
              "1                       396                   3963        11671  \n",
              "2                       854                   3963        11671  \n",
              "3                       754                   3963        11671  \n",
              "4                       854                   1055        11671  "
            ]
          },
          "metadata": {
            "tags": []
          },
          "execution_count": 188
        }
      ]
    },
    {
      "cell_type": "code",
      "metadata": {
        "id": "iVU7wzooxmq1"
      },
      "source": [
        "#interactions\n",
        "\n",
        "datasets[\"age_div_hs\"]=datasets.age_of_respondent/datasets.household_size\n",
        "datasets[\"age_sub_hs\"]=datasets.age_of_respondent-datasets.household_size\n",
        "datasets[\"log10_age\"]=datasets.age_of_respondent/10\n",
        "datasets[\"log100_age\"]=datasets.age_of_respondent/100\n",
        "datasets[\"agevsdiv_hs\"]=datasets.age_of_respondent-datasets.age_div_hs\n",
        "datasets[\"agevssub_hs\"]=datasets.age_of_respondent-datasets.age_sub_hs\n",
        "datasets[\"log10vslog100\"]=datasets.log10_age-datasets.log100_age\n",
        "datasets[\"Agelog\"]=datasets.agevsdiv_hs-datasets.log10vslog100\n",
        "\n",
        "datasets[\"log10_household\"]=datasets.log10_age-datasets.household_size\n",
        "datasets[\"agelog10\"]=datasets.age_of_respondent-datasets.log10_age\n",
        "\n",
        "datasets[\"year_log10\"]=datasets.year/10\n",
        "datasets[\"year_log100\"]=datasets.year/100\n",
        "datasets[\"year_age\"]=datasets.year-datasets.age_of_respondent\n",
        "datasets[\"yearage2\"]=datasets.year/datasets.age_of_respondent\n",
        "datasets[\"yearhousehold\"]=datasets.year/datasets.household_size\n"
      ],
      "execution_count": null,
      "outputs": []
    },
    {
      "cell_type": "code",
      "metadata": {
        "id": "kRWfm-rcxmrA",
        "colab": {
          "base_uri": "https://localhost:8080/",
          "height": 326
        },
        "outputId": "fcaf5ef4-4c9a-41b6-9146-b973a300c31d"
      },
      "source": [
        "datasets.head()"
      ],
      "execution_count": null,
      "outputs": [
        {
          "output_type": "execute_result",
          "data": {
            "text/html": [
              "<div>\n",
              "<style scoped>\n",
              "    .dataframe tbody tr th:only-of-type {\n",
              "        vertical-align: middle;\n",
              "    }\n",
              "\n",
              "    .dataframe tbody tr th {\n",
              "        vertical-align: top;\n",
              "    }\n",
              "\n",
              "    .dataframe thead th {\n",
              "        text-align: right;\n",
              "    }\n",
              "</style>\n",
              "<table border=\"1\" class=\"dataframe\">\n",
              "  <thead>\n",
              "    <tr style=\"text-align: right;\">\n",
              "      <th></th>\n",
              "      <th>country</th>\n",
              "      <th>year</th>\n",
              "      <th>uniqueid</th>\n",
              "      <th>bank_account</th>\n",
              "      <th>location_type</th>\n",
              "      <th>cellphone_access</th>\n",
              "      <th>household_size</th>\n",
              "      <th>age_of_respondent</th>\n",
              "      <th>gender_of_respondent</th>\n",
              "      <th>relationship_with_head</th>\n",
              "      <th>marital_status</th>\n",
              "      <th>education_level</th>\n",
              "      <th>job_type</th>\n",
              "      <th>age_of_respondent_fq_enc</th>\n",
              "      <th>household_size_fq_enc</th>\n",
              "      <th>year_fq_enc</th>\n",
              "      <th>age_div_hs</th>\n",
              "      <th>age_sub_hs</th>\n",
              "      <th>log10_age</th>\n",
              "      <th>log100_age</th>\n",
              "      <th>agevsdiv_hs</th>\n",
              "      <th>agevssub_hs</th>\n",
              "      <th>log10vslog100</th>\n",
              "      <th>Agelog</th>\n",
              "      <th>log10_household</th>\n",
              "      <th>agelog10</th>\n",
              "      <th>year_log10</th>\n",
              "      <th>year_log100</th>\n",
              "      <th>year_age</th>\n",
              "      <th>yearage2</th>\n",
              "      <th>yearhousehold</th>\n",
              "    </tr>\n",
              "  </thead>\n",
              "  <tbody>\n",
              "    <tr>\n",
              "      <th>0</th>\n",
              "      <td>Kenya</td>\n",
              "      <td>2018</td>\n",
              "      <td>uniqueid_1</td>\n",
              "      <td>1.0</td>\n",
              "      <td>Rural</td>\n",
              "      <td>Yes</td>\n",
              "      <td>3</td>\n",
              "      <td>24</td>\n",
              "      <td>Female</td>\n",
              "      <td>Spouse</td>\n",
              "      <td>Married/Living together</td>\n",
              "      <td>Secondary education</td>\n",
              "      <td>Self employed</td>\n",
              "      <td>826</td>\n",
              "      <td>5015</td>\n",
              "      <td>11671</td>\n",
              "      <td>8.00</td>\n",
              "      <td>21</td>\n",
              "      <td>2.4</td>\n",
              "      <td>0.24</td>\n",
              "      <td>16.00</td>\n",
              "      <td>3</td>\n",
              "      <td>2.16</td>\n",
              "      <td>13.84</td>\n",
              "      <td>-0.6</td>\n",
              "      <td>21.6</td>\n",
              "      <td>201.8</td>\n",
              "      <td>20.18</td>\n",
              "      <td>1994</td>\n",
              "      <td>84.083333</td>\n",
              "      <td>672.666667</td>\n",
              "    </tr>\n",
              "    <tr>\n",
              "      <th>1</th>\n",
              "      <td>Kenya</td>\n",
              "      <td>2018</td>\n",
              "      <td>uniqueid_2</td>\n",
              "      <td>0.0</td>\n",
              "      <td>Rural</td>\n",
              "      <td>No</td>\n",
              "      <td>5</td>\n",
              "      <td>70</td>\n",
              "      <td>Female</td>\n",
              "      <td>Head of Household</td>\n",
              "      <td>Widowed</td>\n",
              "      <td>No formal education</td>\n",
              "      <td>Government Dependent</td>\n",
              "      <td>396</td>\n",
              "      <td>3963</td>\n",
              "      <td>11671</td>\n",
              "      <td>14.00</td>\n",
              "      <td>65</td>\n",
              "      <td>7.0</td>\n",
              "      <td>0.70</td>\n",
              "      <td>56.00</td>\n",
              "      <td>5</td>\n",
              "      <td>6.30</td>\n",
              "      <td>49.70</td>\n",
              "      <td>2.0</td>\n",
              "      <td>63.0</td>\n",
              "      <td>201.8</td>\n",
              "      <td>20.18</td>\n",
              "      <td>1948</td>\n",
              "      <td>28.828571</td>\n",
              "      <td>403.600000</td>\n",
              "    </tr>\n",
              "    <tr>\n",
              "      <th>2</th>\n",
              "      <td>Kenya</td>\n",
              "      <td>2018</td>\n",
              "      <td>uniqueid_3</td>\n",
              "      <td>1.0</td>\n",
              "      <td>Urban</td>\n",
              "      <td>Yes</td>\n",
              "      <td>5</td>\n",
              "      <td>26</td>\n",
              "      <td>Male</td>\n",
              "      <td>Other relative</td>\n",
              "      <td>Single/Never Married</td>\n",
              "      <td>Vocational/Specialised training</td>\n",
              "      <td>Self employed</td>\n",
              "      <td>854</td>\n",
              "      <td>3963</td>\n",
              "      <td>11671</td>\n",
              "      <td>5.20</td>\n",
              "      <td>21</td>\n",
              "      <td>2.6</td>\n",
              "      <td>0.26</td>\n",
              "      <td>20.80</td>\n",
              "      <td>5</td>\n",
              "      <td>2.34</td>\n",
              "      <td>18.46</td>\n",
              "      <td>-2.4</td>\n",
              "      <td>23.4</td>\n",
              "      <td>201.8</td>\n",
              "      <td>20.18</td>\n",
              "      <td>1992</td>\n",
              "      <td>77.615385</td>\n",
              "      <td>403.600000</td>\n",
              "    </tr>\n",
              "    <tr>\n",
              "      <th>3</th>\n",
              "      <td>Kenya</td>\n",
              "      <td>2018</td>\n",
              "      <td>uniqueid_4</td>\n",
              "      <td>0.0</td>\n",
              "      <td>Rural</td>\n",
              "      <td>Yes</td>\n",
              "      <td>5</td>\n",
              "      <td>34</td>\n",
              "      <td>Female</td>\n",
              "      <td>Head of Household</td>\n",
              "      <td>Married/Living together</td>\n",
              "      <td>Primary education</td>\n",
              "      <td>Formally employed Private</td>\n",
              "      <td>754</td>\n",
              "      <td>3963</td>\n",
              "      <td>11671</td>\n",
              "      <td>6.80</td>\n",
              "      <td>29</td>\n",
              "      <td>3.4</td>\n",
              "      <td>0.34</td>\n",
              "      <td>27.20</td>\n",
              "      <td>5</td>\n",
              "      <td>3.06</td>\n",
              "      <td>24.14</td>\n",
              "      <td>-1.6</td>\n",
              "      <td>30.6</td>\n",
              "      <td>201.8</td>\n",
              "      <td>20.18</td>\n",
              "      <td>1984</td>\n",
              "      <td>59.352941</td>\n",
              "      <td>403.600000</td>\n",
              "    </tr>\n",
              "    <tr>\n",
              "      <th>4</th>\n",
              "      <td>Kenya</td>\n",
              "      <td>2018</td>\n",
              "      <td>uniqueid_5</td>\n",
              "      <td>0.0</td>\n",
              "      <td>Urban</td>\n",
              "      <td>No</td>\n",
              "      <td>8</td>\n",
              "      <td>26</td>\n",
              "      <td>Male</td>\n",
              "      <td>Child</td>\n",
              "      <td>Single/Never Married</td>\n",
              "      <td>Primary education</td>\n",
              "      <td>Informally employed</td>\n",
              "      <td>854</td>\n",
              "      <td>1055</td>\n",
              "      <td>11671</td>\n",
              "      <td>3.25</td>\n",
              "      <td>18</td>\n",
              "      <td>2.6</td>\n",
              "      <td>0.26</td>\n",
              "      <td>22.75</td>\n",
              "      <td>8</td>\n",
              "      <td>2.34</td>\n",
              "      <td>20.41</td>\n",
              "      <td>-5.4</td>\n",
              "      <td>23.4</td>\n",
              "      <td>201.8</td>\n",
              "      <td>20.18</td>\n",
              "      <td>1992</td>\n",
              "      <td>77.615385</td>\n",
              "      <td>252.250000</td>\n",
              "    </tr>\n",
              "  </tbody>\n",
              "</table>\n",
              "</div>"
            ],
            "text/plain": [
              "  country  year    uniqueid  bank_account location_type cellphone_access  \\\n",
              "0   Kenya  2018  uniqueid_1           1.0         Rural              Yes   \n",
              "1   Kenya  2018  uniqueid_2           0.0         Rural               No   \n",
              "2   Kenya  2018  uniqueid_3           1.0         Urban              Yes   \n",
              "3   Kenya  2018  uniqueid_4           0.0         Rural              Yes   \n",
              "4   Kenya  2018  uniqueid_5           0.0         Urban               No   \n",
              "\n",
              "   household_size  age_of_respondent gender_of_respondent  \\\n",
              "0               3                 24               Female   \n",
              "1               5                 70               Female   \n",
              "2               5                 26                 Male   \n",
              "3               5                 34               Female   \n",
              "4               8                 26                 Male   \n",
              "\n",
              "  relationship_with_head           marital_status  \\\n",
              "0                 Spouse  Married/Living together   \n",
              "1      Head of Household                  Widowed   \n",
              "2         Other relative     Single/Never Married   \n",
              "3      Head of Household  Married/Living together   \n",
              "4                  Child     Single/Never Married   \n",
              "\n",
              "                   education_level                   job_type  \\\n",
              "0              Secondary education              Self employed   \n",
              "1              No formal education       Government Dependent   \n",
              "2  Vocational/Specialised training              Self employed   \n",
              "3                Primary education  Formally employed Private   \n",
              "4                Primary education        Informally employed   \n",
              "\n",
              "   age_of_respondent_fq_enc  household_size_fq_enc  year_fq_enc  age_div_hs  \\\n",
              "0                       826                   5015        11671        8.00   \n",
              "1                       396                   3963        11671       14.00   \n",
              "2                       854                   3963        11671        5.20   \n",
              "3                       754                   3963        11671        6.80   \n",
              "4                       854                   1055        11671        3.25   \n",
              "\n",
              "   age_sub_hs  log10_age  log100_age  agevsdiv_hs  agevssub_hs  log10vslog100  \\\n",
              "0          21        2.4        0.24        16.00            3           2.16   \n",
              "1          65        7.0        0.70        56.00            5           6.30   \n",
              "2          21        2.6        0.26        20.80            5           2.34   \n",
              "3          29        3.4        0.34        27.20            5           3.06   \n",
              "4          18        2.6        0.26        22.75            8           2.34   \n",
              "\n",
              "   Agelog  log10_household  agelog10  year_log10  year_log100  year_age  \\\n",
              "0   13.84             -0.6      21.6       201.8        20.18      1994   \n",
              "1   49.70              2.0      63.0       201.8        20.18      1948   \n",
              "2   18.46             -2.4      23.4       201.8        20.18      1992   \n",
              "3   24.14             -1.6      30.6       201.8        20.18      1984   \n",
              "4   20.41             -5.4      23.4       201.8        20.18      1992   \n",
              "\n",
              "    yearage2  yearhousehold  \n",
              "0  84.083333     672.666667  \n",
              "1  28.828571     403.600000  \n",
              "2  77.615385     403.600000  \n",
              "3  59.352941     403.600000  \n",
              "4  77.615385     252.250000  "
            ]
          },
          "metadata": {
            "tags": []
          },
          "execution_count": 190
        }
      ]
    },
    {
      "cell_type": "code",
      "metadata": {
        "id": "bpjZFo2TxmrI"
      },
      "source": [
        "\n",
        "datasets1=pd.get_dummies(datasets['country'], drop_first=True)\n",
        "datasets2=pd.get_dummies(datasets['year'], drop_first=True)\n",
        "datasets3=pd.get_dummies(datasets['location_type'], drop_first=True)\n",
        "datasets4=pd.get_dummies(datasets['cellphone_access'], drop_first=True)\n",
        "datasets5=pd.get_dummies(datasets['gender_of_respondent'], drop_first=True)\n",
        "datasets6=pd.get_dummies(datasets['relationship_with_head'], drop_first=True)\n",
        "datasets7=pd.get_dummies(datasets['marital_status'], drop_first=True)\n",
        "datasets8=pd.get_dummies(datasets['education_level'], drop_first=True)\n",
        "datasets9=pd.get_dummies(datasets['job_type'], drop_first=True)\n",
        "\n",
        "\n",
        "\n",
        "\n",
        "datasets=datasets.drop(['country'], axis=1)\n",
        "datasets=datasets.drop(['year'], axis=1)\n",
        "datasets=datasets.drop(['location_type'], axis=1)\n",
        "datasets=datasets.drop(['cellphone_access'], axis=1)\n",
        "datasets=datasets.drop(['gender_of_respondent'], axis=1)\n",
        "datasets=datasets.drop(['relationship_with_head'], axis=1)\n",
        "datasets=datasets.drop(['marital_status'], axis=1)\n",
        "datasets=datasets.drop(['education_level'], axis=1)\n",
        "datasets=datasets.drop(['job_type'], axis=1)\n"
      ],
      "execution_count": null,
      "outputs": []
    },
    {
      "cell_type": "code",
      "metadata": {
        "id": "b2oSSeVAxmrP"
      },
      "source": [
        "datasets=pd.concat([datasets,datasets1,datasets2,datasets3,datasets4,datasets5,datasets6,datasets7,datasets8,datasets9], axis=1)\n"
      ],
      "execution_count": null,
      "outputs": []
    },
    {
      "cell_type": "code",
      "metadata": {
        "id": "s0K-nt4NxmrW",
        "colab": {
          "base_uri": "https://localhost:8080/",
          "height": 287
        },
        "outputId": "b75e08f5-f3f6-42f5-aa60-e66209913c98"
      },
      "source": [
        "datasets.head()"
      ],
      "execution_count": null,
      "outputs": [
        {
          "output_type": "execute_result",
          "data": {
            "text/html": [
              "<div>\n",
              "<style scoped>\n",
              "    .dataframe tbody tr th:only-of-type {\n",
              "        vertical-align: middle;\n",
              "    }\n",
              "\n",
              "    .dataframe tbody tr th {\n",
              "        vertical-align: top;\n",
              "    }\n",
              "\n",
              "    .dataframe thead th {\n",
              "        text-align: right;\n",
              "    }\n",
              "</style>\n",
              "<table border=\"1\" class=\"dataframe\">\n",
              "  <thead>\n",
              "    <tr style=\"text-align: right;\">\n",
              "      <th></th>\n",
              "      <th>uniqueid</th>\n",
              "      <th>bank_account</th>\n",
              "      <th>household_size</th>\n",
              "      <th>age_of_respondent</th>\n",
              "      <th>age_of_respondent_fq_enc</th>\n",
              "      <th>household_size_fq_enc</th>\n",
              "      <th>year_fq_enc</th>\n",
              "      <th>age_div_hs</th>\n",
              "      <th>age_sub_hs</th>\n",
              "      <th>log10_age</th>\n",
              "      <th>log100_age</th>\n",
              "      <th>agevsdiv_hs</th>\n",
              "      <th>agevssub_hs</th>\n",
              "      <th>log10vslog100</th>\n",
              "      <th>Agelog</th>\n",
              "      <th>log10_household</th>\n",
              "      <th>agelog10</th>\n",
              "      <th>year_log10</th>\n",
              "      <th>year_log100</th>\n",
              "      <th>year_age</th>\n",
              "      <th>yearage2</th>\n",
              "      <th>yearhousehold</th>\n",
              "      <th>Rwanda</th>\n",
              "      <th>Tanzania</th>\n",
              "      <th>Uganda</th>\n",
              "      <th>...</th>\n",
              "      <th>Male</th>\n",
              "      <th>Head of Household</th>\n",
              "      <th>Other non-relatives</th>\n",
              "      <th>Other relative</th>\n",
              "      <th>Parent</th>\n",
              "      <th>Spouse</th>\n",
              "      <th>Dont know</th>\n",
              "      <th>Married/Living together</th>\n",
              "      <th>Single/Never Married</th>\n",
              "      <th>Widowed</th>\n",
              "      <th>No formal education</th>\n",
              "      <th>Other/Dont know/RTA</th>\n",
              "      <th>Primary education</th>\n",
              "      <th>Secondary education</th>\n",
              "      <th>Tertiary education</th>\n",
              "      <th>Vocational/Specialised training</th>\n",
              "      <th>Farming and Fishing</th>\n",
              "      <th>Formally employed Government</th>\n",
              "      <th>Formally employed Private</th>\n",
              "      <th>Government Dependent</th>\n",
              "      <th>Informally employed</th>\n",
              "      <th>No Income</th>\n",
              "      <th>Other Income</th>\n",
              "      <th>Remittance Dependent</th>\n",
              "      <th>Self employed</th>\n",
              "    </tr>\n",
              "  </thead>\n",
              "  <tbody>\n",
              "    <tr>\n",
              "      <th>0</th>\n",
              "      <td>uniqueid_1</td>\n",
              "      <td>1.0</td>\n",
              "      <td>3</td>\n",
              "      <td>24</td>\n",
              "      <td>826</td>\n",
              "      <td>5015</td>\n",
              "      <td>11671</td>\n",
              "      <td>8.00</td>\n",
              "      <td>21</td>\n",
              "      <td>2.4</td>\n",
              "      <td>0.24</td>\n",
              "      <td>16.00</td>\n",
              "      <td>3</td>\n",
              "      <td>2.16</td>\n",
              "      <td>13.84</td>\n",
              "      <td>-0.6</td>\n",
              "      <td>21.6</td>\n",
              "      <td>201.8</td>\n",
              "      <td>20.18</td>\n",
              "      <td>1994</td>\n",
              "      <td>84.083333</td>\n",
              "      <td>672.666667</td>\n",
              "      <td>0</td>\n",
              "      <td>0</td>\n",
              "      <td>0</td>\n",
              "      <td>...</td>\n",
              "      <td>0</td>\n",
              "      <td>0</td>\n",
              "      <td>0</td>\n",
              "      <td>0</td>\n",
              "      <td>0</td>\n",
              "      <td>1</td>\n",
              "      <td>0</td>\n",
              "      <td>1</td>\n",
              "      <td>0</td>\n",
              "      <td>0</td>\n",
              "      <td>0</td>\n",
              "      <td>0</td>\n",
              "      <td>0</td>\n",
              "      <td>1</td>\n",
              "      <td>0</td>\n",
              "      <td>0</td>\n",
              "      <td>0</td>\n",
              "      <td>0</td>\n",
              "      <td>0</td>\n",
              "      <td>0</td>\n",
              "      <td>0</td>\n",
              "      <td>0</td>\n",
              "      <td>0</td>\n",
              "      <td>0</td>\n",
              "      <td>1</td>\n",
              "    </tr>\n",
              "    <tr>\n",
              "      <th>1</th>\n",
              "      <td>uniqueid_2</td>\n",
              "      <td>0.0</td>\n",
              "      <td>5</td>\n",
              "      <td>70</td>\n",
              "      <td>396</td>\n",
              "      <td>3963</td>\n",
              "      <td>11671</td>\n",
              "      <td>14.00</td>\n",
              "      <td>65</td>\n",
              "      <td>7.0</td>\n",
              "      <td>0.70</td>\n",
              "      <td>56.00</td>\n",
              "      <td>5</td>\n",
              "      <td>6.30</td>\n",
              "      <td>49.70</td>\n",
              "      <td>2.0</td>\n",
              "      <td>63.0</td>\n",
              "      <td>201.8</td>\n",
              "      <td>20.18</td>\n",
              "      <td>1948</td>\n",
              "      <td>28.828571</td>\n",
              "      <td>403.600000</td>\n",
              "      <td>0</td>\n",
              "      <td>0</td>\n",
              "      <td>0</td>\n",
              "      <td>...</td>\n",
              "      <td>0</td>\n",
              "      <td>1</td>\n",
              "      <td>0</td>\n",
              "      <td>0</td>\n",
              "      <td>0</td>\n",
              "      <td>0</td>\n",
              "      <td>0</td>\n",
              "      <td>0</td>\n",
              "      <td>0</td>\n",
              "      <td>1</td>\n",
              "      <td>1</td>\n",
              "      <td>0</td>\n",
              "      <td>0</td>\n",
              "      <td>0</td>\n",
              "      <td>0</td>\n",
              "      <td>0</td>\n",
              "      <td>0</td>\n",
              "      <td>0</td>\n",
              "      <td>0</td>\n",
              "      <td>1</td>\n",
              "      <td>0</td>\n",
              "      <td>0</td>\n",
              "      <td>0</td>\n",
              "      <td>0</td>\n",
              "      <td>0</td>\n",
              "    </tr>\n",
              "    <tr>\n",
              "      <th>2</th>\n",
              "      <td>uniqueid_3</td>\n",
              "      <td>1.0</td>\n",
              "      <td>5</td>\n",
              "      <td>26</td>\n",
              "      <td>854</td>\n",
              "      <td>3963</td>\n",
              "      <td>11671</td>\n",
              "      <td>5.20</td>\n",
              "      <td>21</td>\n",
              "      <td>2.6</td>\n",
              "      <td>0.26</td>\n",
              "      <td>20.80</td>\n",
              "      <td>5</td>\n",
              "      <td>2.34</td>\n",
              "      <td>18.46</td>\n",
              "      <td>-2.4</td>\n",
              "      <td>23.4</td>\n",
              "      <td>201.8</td>\n",
              "      <td>20.18</td>\n",
              "      <td>1992</td>\n",
              "      <td>77.615385</td>\n",
              "      <td>403.600000</td>\n",
              "      <td>0</td>\n",
              "      <td>0</td>\n",
              "      <td>0</td>\n",
              "      <td>...</td>\n",
              "      <td>1</td>\n",
              "      <td>0</td>\n",
              "      <td>0</td>\n",
              "      <td>1</td>\n",
              "      <td>0</td>\n",
              "      <td>0</td>\n",
              "      <td>0</td>\n",
              "      <td>0</td>\n",
              "      <td>1</td>\n",
              "      <td>0</td>\n",
              "      <td>0</td>\n",
              "      <td>0</td>\n",
              "      <td>0</td>\n",
              "      <td>0</td>\n",
              "      <td>0</td>\n",
              "      <td>1</td>\n",
              "      <td>0</td>\n",
              "      <td>0</td>\n",
              "      <td>0</td>\n",
              "      <td>0</td>\n",
              "      <td>0</td>\n",
              "      <td>0</td>\n",
              "      <td>0</td>\n",
              "      <td>0</td>\n",
              "      <td>1</td>\n",
              "    </tr>\n",
              "    <tr>\n",
              "      <th>3</th>\n",
              "      <td>uniqueid_4</td>\n",
              "      <td>0.0</td>\n",
              "      <td>5</td>\n",
              "      <td>34</td>\n",
              "      <td>754</td>\n",
              "      <td>3963</td>\n",
              "      <td>11671</td>\n",
              "      <td>6.80</td>\n",
              "      <td>29</td>\n",
              "      <td>3.4</td>\n",
              "      <td>0.34</td>\n",
              "      <td>27.20</td>\n",
              "      <td>5</td>\n",
              "      <td>3.06</td>\n",
              "      <td>24.14</td>\n",
              "      <td>-1.6</td>\n",
              "      <td>30.6</td>\n",
              "      <td>201.8</td>\n",
              "      <td>20.18</td>\n",
              "      <td>1984</td>\n",
              "      <td>59.352941</td>\n",
              "      <td>403.600000</td>\n",
              "      <td>0</td>\n",
              "      <td>0</td>\n",
              "      <td>0</td>\n",
              "      <td>...</td>\n",
              "      <td>0</td>\n",
              "      <td>1</td>\n",
              "      <td>0</td>\n",
              "      <td>0</td>\n",
              "      <td>0</td>\n",
              "      <td>0</td>\n",
              "      <td>0</td>\n",
              "      <td>1</td>\n",
              "      <td>0</td>\n",
              "      <td>0</td>\n",
              "      <td>0</td>\n",
              "      <td>0</td>\n",
              "      <td>1</td>\n",
              "      <td>0</td>\n",
              "      <td>0</td>\n",
              "      <td>0</td>\n",
              "      <td>0</td>\n",
              "      <td>0</td>\n",
              "      <td>1</td>\n",
              "      <td>0</td>\n",
              "      <td>0</td>\n",
              "      <td>0</td>\n",
              "      <td>0</td>\n",
              "      <td>0</td>\n",
              "      <td>0</td>\n",
              "    </tr>\n",
              "    <tr>\n",
              "      <th>4</th>\n",
              "      <td>uniqueid_5</td>\n",
              "      <td>0.0</td>\n",
              "      <td>8</td>\n",
              "      <td>26</td>\n",
              "      <td>854</td>\n",
              "      <td>1055</td>\n",
              "      <td>11671</td>\n",
              "      <td>3.25</td>\n",
              "      <td>18</td>\n",
              "      <td>2.6</td>\n",
              "      <td>0.26</td>\n",
              "      <td>22.75</td>\n",
              "      <td>8</td>\n",
              "      <td>2.34</td>\n",
              "      <td>20.41</td>\n",
              "      <td>-5.4</td>\n",
              "      <td>23.4</td>\n",
              "      <td>201.8</td>\n",
              "      <td>20.18</td>\n",
              "      <td>1992</td>\n",
              "      <td>77.615385</td>\n",
              "      <td>252.250000</td>\n",
              "      <td>0</td>\n",
              "      <td>0</td>\n",
              "      <td>0</td>\n",
              "      <td>...</td>\n",
              "      <td>1</td>\n",
              "      <td>0</td>\n",
              "      <td>0</td>\n",
              "      <td>0</td>\n",
              "      <td>0</td>\n",
              "      <td>0</td>\n",
              "      <td>0</td>\n",
              "      <td>0</td>\n",
              "      <td>1</td>\n",
              "      <td>0</td>\n",
              "      <td>0</td>\n",
              "      <td>0</td>\n",
              "      <td>1</td>\n",
              "      <td>0</td>\n",
              "      <td>0</td>\n",
              "      <td>0</td>\n",
              "      <td>0</td>\n",
              "      <td>0</td>\n",
              "      <td>0</td>\n",
              "      <td>0</td>\n",
              "      <td>1</td>\n",
              "      <td>0</td>\n",
              "      <td>0</td>\n",
              "      <td>0</td>\n",
              "      <td>0</td>\n",
              "    </tr>\n",
              "  </tbody>\n",
              "</table>\n",
              "<p>5 rows × 54 columns</p>\n",
              "</div>"
            ],
            "text/plain": [
              "     uniqueid  bank_account  household_size  age_of_respondent  \\\n",
              "0  uniqueid_1           1.0               3                 24   \n",
              "1  uniqueid_2           0.0               5                 70   \n",
              "2  uniqueid_3           1.0               5                 26   \n",
              "3  uniqueid_4           0.0               5                 34   \n",
              "4  uniqueid_5           0.0               8                 26   \n",
              "\n",
              "   age_of_respondent_fq_enc  household_size_fq_enc  year_fq_enc  age_div_hs  \\\n",
              "0                       826                   5015        11671        8.00   \n",
              "1                       396                   3963        11671       14.00   \n",
              "2                       854                   3963        11671        5.20   \n",
              "3                       754                   3963        11671        6.80   \n",
              "4                       854                   1055        11671        3.25   \n",
              "\n",
              "   age_sub_hs  log10_age  log100_age  agevsdiv_hs  agevssub_hs  log10vslog100  \\\n",
              "0          21        2.4        0.24        16.00            3           2.16   \n",
              "1          65        7.0        0.70        56.00            5           6.30   \n",
              "2          21        2.6        0.26        20.80            5           2.34   \n",
              "3          29        3.4        0.34        27.20            5           3.06   \n",
              "4          18        2.6        0.26        22.75            8           2.34   \n",
              "\n",
              "   Agelog  log10_household  agelog10  year_log10  year_log100  year_age  \\\n",
              "0   13.84             -0.6      21.6       201.8        20.18      1994   \n",
              "1   49.70              2.0      63.0       201.8        20.18      1948   \n",
              "2   18.46             -2.4      23.4       201.8        20.18      1992   \n",
              "3   24.14             -1.6      30.6       201.8        20.18      1984   \n",
              "4   20.41             -5.4      23.4       201.8        20.18      1992   \n",
              "\n",
              "    yearage2  yearhousehold  Rwanda  Tanzania  Uganda  ...  Male  \\\n",
              "0  84.083333     672.666667       0         0       0  ...     0   \n",
              "1  28.828571     403.600000       0         0       0  ...     0   \n",
              "2  77.615385     403.600000       0         0       0  ...     1   \n",
              "3  59.352941     403.600000       0         0       0  ...     0   \n",
              "4  77.615385     252.250000       0         0       0  ...     1   \n",
              "\n",
              "   Head of Household  Other non-relatives  Other relative  Parent  Spouse  \\\n",
              "0                  0                    0               0       0       1   \n",
              "1                  1                    0               0       0       0   \n",
              "2                  0                    0               1       0       0   \n",
              "3                  1                    0               0       0       0   \n",
              "4                  0                    0               0       0       0   \n",
              "\n",
              "   Dont know  Married/Living together  Single/Never Married  Widowed  \\\n",
              "0          0                        1                     0        0   \n",
              "1          0                        0                     0        1   \n",
              "2          0                        0                     1        0   \n",
              "3          0                        1                     0        0   \n",
              "4          0                        0                     1        0   \n",
              "\n",
              "   No formal education  Other/Dont know/RTA  Primary education  \\\n",
              "0                    0                    0                  0   \n",
              "1                    1                    0                  0   \n",
              "2                    0                    0                  0   \n",
              "3                    0                    0                  1   \n",
              "4                    0                    0                  1   \n",
              "\n",
              "   Secondary education  Tertiary education  Vocational/Specialised training  \\\n",
              "0                    1                   0                                0   \n",
              "1                    0                   0                                0   \n",
              "2                    0                   0                                1   \n",
              "3                    0                   0                                0   \n",
              "4                    0                   0                                0   \n",
              "\n",
              "   Farming and Fishing  Formally employed Government  \\\n",
              "0                    0                             0   \n",
              "1                    0                             0   \n",
              "2                    0                             0   \n",
              "3                    0                             0   \n",
              "4                    0                             0   \n",
              "\n",
              "   Formally employed Private  Government Dependent  Informally employed  \\\n",
              "0                          0                     0                    0   \n",
              "1                          0                     1                    0   \n",
              "2                          0                     0                    0   \n",
              "3                          1                     0                    0   \n",
              "4                          0                     0                    1   \n",
              "\n",
              "   No Income  Other Income  Remittance Dependent  Self employed  \n",
              "0          0             0                     0              1  \n",
              "1          0             0                     0              0  \n",
              "2          0             0                     0              1  \n",
              "3          0             0                     0              0  \n",
              "4          0             0                     0              0  \n",
              "\n",
              "[5 rows x 54 columns]"
            ]
          },
          "metadata": {
            "tags": []
          },
          "execution_count": 193
        }
      ]
    },
    {
      "cell_type": "code",
      "metadata": {
        "id": "wiFBpKM7xmre"
      },
      "source": [
        "#datasets.drop(['uniqueid'],inplace=True,axis=1)"
      ],
      "execution_count": null,
      "outputs": []
    },
    {
      "cell_type": "markdown",
      "metadata": {
        "id": "EY4uWbdaxmrn"
      },
      "source": [
        "# separate our data back"
      ]
    },
    {
      "cell_type": "code",
      "metadata": {
        "id": "VoZJvmcaxmro"
      },
      "source": [
        "train=datasets[:split]\n",
        "test=datasets[split:]"
      ],
      "execution_count": null,
      "outputs": []
    },
    {
      "cell_type": "code",
      "metadata": {
        "id": "91ZHUNLPxmrv",
        "colab": {
          "base_uri": "https://localhost:8080/",
          "height": 287
        },
        "outputId": "20a6daa9-ccca-464c-ed89-4b0c38f6fe21"
      },
      "source": [
        "train.head()"
      ],
      "execution_count": null,
      "outputs": [
        {
          "output_type": "execute_result",
          "data": {
            "text/html": [
              "<div>\n",
              "<style scoped>\n",
              "    .dataframe tbody tr th:only-of-type {\n",
              "        vertical-align: middle;\n",
              "    }\n",
              "\n",
              "    .dataframe tbody tr th {\n",
              "        vertical-align: top;\n",
              "    }\n",
              "\n",
              "    .dataframe thead th {\n",
              "        text-align: right;\n",
              "    }\n",
              "</style>\n",
              "<table border=\"1\" class=\"dataframe\">\n",
              "  <thead>\n",
              "    <tr style=\"text-align: right;\">\n",
              "      <th></th>\n",
              "      <th>uniqueid</th>\n",
              "      <th>bank_account</th>\n",
              "      <th>household_size</th>\n",
              "      <th>age_of_respondent</th>\n",
              "      <th>age_of_respondent_fq_enc</th>\n",
              "      <th>household_size_fq_enc</th>\n",
              "      <th>year_fq_enc</th>\n",
              "      <th>age_div_hs</th>\n",
              "      <th>age_sub_hs</th>\n",
              "      <th>log10_age</th>\n",
              "      <th>log100_age</th>\n",
              "      <th>agevsdiv_hs</th>\n",
              "      <th>agevssub_hs</th>\n",
              "      <th>log10vslog100</th>\n",
              "      <th>Agelog</th>\n",
              "      <th>log10_household</th>\n",
              "      <th>agelog10</th>\n",
              "      <th>year_log10</th>\n",
              "      <th>year_log100</th>\n",
              "      <th>year_age</th>\n",
              "      <th>yearage2</th>\n",
              "      <th>yearhousehold</th>\n",
              "      <th>Rwanda</th>\n",
              "      <th>Tanzania</th>\n",
              "      <th>Uganda</th>\n",
              "      <th>...</th>\n",
              "      <th>Male</th>\n",
              "      <th>Head of Household</th>\n",
              "      <th>Other non-relatives</th>\n",
              "      <th>Other relative</th>\n",
              "      <th>Parent</th>\n",
              "      <th>Spouse</th>\n",
              "      <th>Dont know</th>\n",
              "      <th>Married/Living together</th>\n",
              "      <th>Single/Never Married</th>\n",
              "      <th>Widowed</th>\n",
              "      <th>No formal education</th>\n",
              "      <th>Other/Dont know/RTA</th>\n",
              "      <th>Primary education</th>\n",
              "      <th>Secondary education</th>\n",
              "      <th>Tertiary education</th>\n",
              "      <th>Vocational/Specialised training</th>\n",
              "      <th>Farming and Fishing</th>\n",
              "      <th>Formally employed Government</th>\n",
              "      <th>Formally employed Private</th>\n",
              "      <th>Government Dependent</th>\n",
              "      <th>Informally employed</th>\n",
              "      <th>No Income</th>\n",
              "      <th>Other Income</th>\n",
              "      <th>Remittance Dependent</th>\n",
              "      <th>Self employed</th>\n",
              "    </tr>\n",
              "  </thead>\n",
              "  <tbody>\n",
              "    <tr>\n",
              "      <th>0</th>\n",
              "      <td>uniqueid_1</td>\n",
              "      <td>1.0</td>\n",
              "      <td>3</td>\n",
              "      <td>24</td>\n",
              "      <td>826</td>\n",
              "      <td>5015</td>\n",
              "      <td>11671</td>\n",
              "      <td>8.00</td>\n",
              "      <td>21</td>\n",
              "      <td>2.4</td>\n",
              "      <td>0.24</td>\n",
              "      <td>16.00</td>\n",
              "      <td>3</td>\n",
              "      <td>2.16</td>\n",
              "      <td>13.84</td>\n",
              "      <td>-0.6</td>\n",
              "      <td>21.6</td>\n",
              "      <td>201.8</td>\n",
              "      <td>20.18</td>\n",
              "      <td>1994</td>\n",
              "      <td>84.083333</td>\n",
              "      <td>672.666667</td>\n",
              "      <td>0</td>\n",
              "      <td>0</td>\n",
              "      <td>0</td>\n",
              "      <td>...</td>\n",
              "      <td>0</td>\n",
              "      <td>0</td>\n",
              "      <td>0</td>\n",
              "      <td>0</td>\n",
              "      <td>0</td>\n",
              "      <td>1</td>\n",
              "      <td>0</td>\n",
              "      <td>1</td>\n",
              "      <td>0</td>\n",
              "      <td>0</td>\n",
              "      <td>0</td>\n",
              "      <td>0</td>\n",
              "      <td>0</td>\n",
              "      <td>1</td>\n",
              "      <td>0</td>\n",
              "      <td>0</td>\n",
              "      <td>0</td>\n",
              "      <td>0</td>\n",
              "      <td>0</td>\n",
              "      <td>0</td>\n",
              "      <td>0</td>\n",
              "      <td>0</td>\n",
              "      <td>0</td>\n",
              "      <td>0</td>\n",
              "      <td>1</td>\n",
              "    </tr>\n",
              "    <tr>\n",
              "      <th>1</th>\n",
              "      <td>uniqueid_2</td>\n",
              "      <td>0.0</td>\n",
              "      <td>5</td>\n",
              "      <td>70</td>\n",
              "      <td>396</td>\n",
              "      <td>3963</td>\n",
              "      <td>11671</td>\n",
              "      <td>14.00</td>\n",
              "      <td>65</td>\n",
              "      <td>7.0</td>\n",
              "      <td>0.70</td>\n",
              "      <td>56.00</td>\n",
              "      <td>5</td>\n",
              "      <td>6.30</td>\n",
              "      <td>49.70</td>\n",
              "      <td>2.0</td>\n",
              "      <td>63.0</td>\n",
              "      <td>201.8</td>\n",
              "      <td>20.18</td>\n",
              "      <td>1948</td>\n",
              "      <td>28.828571</td>\n",
              "      <td>403.600000</td>\n",
              "      <td>0</td>\n",
              "      <td>0</td>\n",
              "      <td>0</td>\n",
              "      <td>...</td>\n",
              "      <td>0</td>\n",
              "      <td>1</td>\n",
              "      <td>0</td>\n",
              "      <td>0</td>\n",
              "      <td>0</td>\n",
              "      <td>0</td>\n",
              "      <td>0</td>\n",
              "      <td>0</td>\n",
              "      <td>0</td>\n",
              "      <td>1</td>\n",
              "      <td>1</td>\n",
              "      <td>0</td>\n",
              "      <td>0</td>\n",
              "      <td>0</td>\n",
              "      <td>0</td>\n",
              "      <td>0</td>\n",
              "      <td>0</td>\n",
              "      <td>0</td>\n",
              "      <td>0</td>\n",
              "      <td>1</td>\n",
              "      <td>0</td>\n",
              "      <td>0</td>\n",
              "      <td>0</td>\n",
              "      <td>0</td>\n",
              "      <td>0</td>\n",
              "    </tr>\n",
              "    <tr>\n",
              "      <th>2</th>\n",
              "      <td>uniqueid_3</td>\n",
              "      <td>1.0</td>\n",
              "      <td>5</td>\n",
              "      <td>26</td>\n",
              "      <td>854</td>\n",
              "      <td>3963</td>\n",
              "      <td>11671</td>\n",
              "      <td>5.20</td>\n",
              "      <td>21</td>\n",
              "      <td>2.6</td>\n",
              "      <td>0.26</td>\n",
              "      <td>20.80</td>\n",
              "      <td>5</td>\n",
              "      <td>2.34</td>\n",
              "      <td>18.46</td>\n",
              "      <td>-2.4</td>\n",
              "      <td>23.4</td>\n",
              "      <td>201.8</td>\n",
              "      <td>20.18</td>\n",
              "      <td>1992</td>\n",
              "      <td>77.615385</td>\n",
              "      <td>403.600000</td>\n",
              "      <td>0</td>\n",
              "      <td>0</td>\n",
              "      <td>0</td>\n",
              "      <td>...</td>\n",
              "      <td>1</td>\n",
              "      <td>0</td>\n",
              "      <td>0</td>\n",
              "      <td>1</td>\n",
              "      <td>0</td>\n",
              "      <td>0</td>\n",
              "      <td>0</td>\n",
              "      <td>0</td>\n",
              "      <td>1</td>\n",
              "      <td>0</td>\n",
              "      <td>0</td>\n",
              "      <td>0</td>\n",
              "      <td>0</td>\n",
              "      <td>0</td>\n",
              "      <td>0</td>\n",
              "      <td>1</td>\n",
              "      <td>0</td>\n",
              "      <td>0</td>\n",
              "      <td>0</td>\n",
              "      <td>0</td>\n",
              "      <td>0</td>\n",
              "      <td>0</td>\n",
              "      <td>0</td>\n",
              "      <td>0</td>\n",
              "      <td>1</td>\n",
              "    </tr>\n",
              "    <tr>\n",
              "      <th>3</th>\n",
              "      <td>uniqueid_4</td>\n",
              "      <td>0.0</td>\n",
              "      <td>5</td>\n",
              "      <td>34</td>\n",
              "      <td>754</td>\n",
              "      <td>3963</td>\n",
              "      <td>11671</td>\n",
              "      <td>6.80</td>\n",
              "      <td>29</td>\n",
              "      <td>3.4</td>\n",
              "      <td>0.34</td>\n",
              "      <td>27.20</td>\n",
              "      <td>5</td>\n",
              "      <td>3.06</td>\n",
              "      <td>24.14</td>\n",
              "      <td>-1.6</td>\n",
              "      <td>30.6</td>\n",
              "      <td>201.8</td>\n",
              "      <td>20.18</td>\n",
              "      <td>1984</td>\n",
              "      <td>59.352941</td>\n",
              "      <td>403.600000</td>\n",
              "      <td>0</td>\n",
              "      <td>0</td>\n",
              "      <td>0</td>\n",
              "      <td>...</td>\n",
              "      <td>0</td>\n",
              "      <td>1</td>\n",
              "      <td>0</td>\n",
              "      <td>0</td>\n",
              "      <td>0</td>\n",
              "      <td>0</td>\n",
              "      <td>0</td>\n",
              "      <td>1</td>\n",
              "      <td>0</td>\n",
              "      <td>0</td>\n",
              "      <td>0</td>\n",
              "      <td>0</td>\n",
              "      <td>1</td>\n",
              "      <td>0</td>\n",
              "      <td>0</td>\n",
              "      <td>0</td>\n",
              "      <td>0</td>\n",
              "      <td>0</td>\n",
              "      <td>1</td>\n",
              "      <td>0</td>\n",
              "      <td>0</td>\n",
              "      <td>0</td>\n",
              "      <td>0</td>\n",
              "      <td>0</td>\n",
              "      <td>0</td>\n",
              "    </tr>\n",
              "    <tr>\n",
              "      <th>4</th>\n",
              "      <td>uniqueid_5</td>\n",
              "      <td>0.0</td>\n",
              "      <td>8</td>\n",
              "      <td>26</td>\n",
              "      <td>854</td>\n",
              "      <td>1055</td>\n",
              "      <td>11671</td>\n",
              "      <td>3.25</td>\n",
              "      <td>18</td>\n",
              "      <td>2.6</td>\n",
              "      <td>0.26</td>\n",
              "      <td>22.75</td>\n",
              "      <td>8</td>\n",
              "      <td>2.34</td>\n",
              "      <td>20.41</td>\n",
              "      <td>-5.4</td>\n",
              "      <td>23.4</td>\n",
              "      <td>201.8</td>\n",
              "      <td>20.18</td>\n",
              "      <td>1992</td>\n",
              "      <td>77.615385</td>\n",
              "      <td>252.250000</td>\n",
              "      <td>0</td>\n",
              "      <td>0</td>\n",
              "      <td>0</td>\n",
              "      <td>...</td>\n",
              "      <td>1</td>\n",
              "      <td>0</td>\n",
              "      <td>0</td>\n",
              "      <td>0</td>\n",
              "      <td>0</td>\n",
              "      <td>0</td>\n",
              "      <td>0</td>\n",
              "      <td>0</td>\n",
              "      <td>1</td>\n",
              "      <td>0</td>\n",
              "      <td>0</td>\n",
              "      <td>0</td>\n",
              "      <td>1</td>\n",
              "      <td>0</td>\n",
              "      <td>0</td>\n",
              "      <td>0</td>\n",
              "      <td>0</td>\n",
              "      <td>0</td>\n",
              "      <td>0</td>\n",
              "      <td>0</td>\n",
              "      <td>1</td>\n",
              "      <td>0</td>\n",
              "      <td>0</td>\n",
              "      <td>0</td>\n",
              "      <td>0</td>\n",
              "    </tr>\n",
              "  </tbody>\n",
              "</table>\n",
              "<p>5 rows × 54 columns</p>\n",
              "</div>"
            ],
            "text/plain": [
              "     uniqueid  bank_account  household_size  age_of_respondent  \\\n",
              "0  uniqueid_1           1.0               3                 24   \n",
              "1  uniqueid_2           0.0               5                 70   \n",
              "2  uniqueid_3           1.0               5                 26   \n",
              "3  uniqueid_4           0.0               5                 34   \n",
              "4  uniqueid_5           0.0               8                 26   \n",
              "\n",
              "   age_of_respondent_fq_enc  household_size_fq_enc  year_fq_enc  age_div_hs  \\\n",
              "0                       826                   5015        11671        8.00   \n",
              "1                       396                   3963        11671       14.00   \n",
              "2                       854                   3963        11671        5.20   \n",
              "3                       754                   3963        11671        6.80   \n",
              "4                       854                   1055        11671        3.25   \n",
              "\n",
              "   age_sub_hs  log10_age  log100_age  agevsdiv_hs  agevssub_hs  log10vslog100  \\\n",
              "0          21        2.4        0.24        16.00            3           2.16   \n",
              "1          65        7.0        0.70        56.00            5           6.30   \n",
              "2          21        2.6        0.26        20.80            5           2.34   \n",
              "3          29        3.4        0.34        27.20            5           3.06   \n",
              "4          18        2.6        0.26        22.75            8           2.34   \n",
              "\n",
              "   Agelog  log10_household  agelog10  year_log10  year_log100  year_age  \\\n",
              "0   13.84             -0.6      21.6       201.8        20.18      1994   \n",
              "1   49.70              2.0      63.0       201.8        20.18      1948   \n",
              "2   18.46             -2.4      23.4       201.8        20.18      1992   \n",
              "3   24.14             -1.6      30.6       201.8        20.18      1984   \n",
              "4   20.41             -5.4      23.4       201.8        20.18      1992   \n",
              "\n",
              "    yearage2  yearhousehold  Rwanda  Tanzania  Uganda  ...  Male  \\\n",
              "0  84.083333     672.666667       0         0       0  ...     0   \n",
              "1  28.828571     403.600000       0         0       0  ...     0   \n",
              "2  77.615385     403.600000       0         0       0  ...     1   \n",
              "3  59.352941     403.600000       0         0       0  ...     0   \n",
              "4  77.615385     252.250000       0         0       0  ...     1   \n",
              "\n",
              "   Head of Household  Other non-relatives  Other relative  Parent  Spouse  \\\n",
              "0                  0                    0               0       0       1   \n",
              "1                  1                    0               0       0       0   \n",
              "2                  0                    0               1       0       0   \n",
              "3                  1                    0               0       0       0   \n",
              "4                  0                    0               0       0       0   \n",
              "\n",
              "   Dont know  Married/Living together  Single/Never Married  Widowed  \\\n",
              "0          0                        1                     0        0   \n",
              "1          0                        0                     0        1   \n",
              "2          0                        0                     1        0   \n",
              "3          0                        1                     0        0   \n",
              "4          0                        0                     1        0   \n",
              "\n",
              "   No formal education  Other/Dont know/RTA  Primary education  \\\n",
              "0                    0                    0                  0   \n",
              "1                    1                    0                  0   \n",
              "2                    0                    0                  0   \n",
              "3                    0                    0                  1   \n",
              "4                    0                    0                  1   \n",
              "\n",
              "   Secondary education  Tertiary education  Vocational/Specialised training  \\\n",
              "0                    1                   0                                0   \n",
              "1                    0                   0                                0   \n",
              "2                    0                   0                                1   \n",
              "3                    0                   0                                0   \n",
              "4                    0                   0                                0   \n",
              "\n",
              "   Farming and Fishing  Formally employed Government  \\\n",
              "0                    0                             0   \n",
              "1                    0                             0   \n",
              "2                    0                             0   \n",
              "3                    0                             0   \n",
              "4                    0                             0   \n",
              "\n",
              "   Formally employed Private  Government Dependent  Informally employed  \\\n",
              "0                          0                     0                    0   \n",
              "1                          0                     1                    0   \n",
              "2                          0                     0                    0   \n",
              "3                          1                     0                    0   \n",
              "4                          0                     0                    1   \n",
              "\n",
              "   No Income  Other Income  Remittance Dependent  Self employed  \n",
              "0          0             0                     0              1  \n",
              "1          0             0                     0              0  \n",
              "2          0             0                     0              1  \n",
              "3          0             0                     0              0  \n",
              "4          0             0                     0              0  \n",
              "\n",
              "[5 rows x 54 columns]"
            ]
          },
          "metadata": {
            "tags": []
          },
          "execution_count": 196
        }
      ]
    },
    {
      "cell_type": "code",
      "metadata": {
        "id": "OuTxjX6Txmr8"
      },
      "source": [
        ""
      ],
      "execution_count": null,
      "outputs": []
    },
    {
      "cell_type": "code",
      "metadata": {
        "id": "49BrP_adxmsE",
        "colab": {
          "base_uri": "https://localhost:8080/",
          "height": 612
        },
        "outputId": "5b59bdcb-12d0-427c-f7b0-c9cba0beb9bb"
      },
      "source": [
        "n_folds=5\n",
        "num_boost_round=300\n",
        "kf = StratifiedKFold(n_splits = n_folds, random_state = 15, shuffle = True)\n",
        "oof_lgb= np.zeros(train.shape[0])\n",
        "predictions_lgb= np.zeros(test.shape[0])\n",
        "cols = [c for c in train.columns if c not in ['bank_account','uniqueid']]\n",
        "\n",
        "params = {'objective' : 'binary',\n",
        "          'boosting_type' : 'gbdt',\n",
        "          'num_threads': 4,\n",
        "          'learning_rate': 0.02,\n",
        "          'max_depth' : 10,\n",
        "          'tree_learner' : 'serial',\n",
        "          'feature_fraction': 0.65,\n",
        "          'bagging_freq' : 5,\n",
        "          'bagging_fraction':0.85,\n",
        "          'verbosity': 1,\n",
        "          \"metric\":\"binary_error\"\n",
        "          }\n",
        "for train_index, val_index in kf.split(train, train.bank_account):\n",
        "    X_train, X_val = train[cols].iloc[train_index], train[cols].iloc[val_index]\n",
        "    y_train, y_val = train.bank_account[train_index], train.bank_account[val_index]\n",
        "    \n",
        "    dtrain=lgbm.Dataset(data=X_train,label=y_train)\n",
        "    dval=lgbm.Dataset(data=X_val,label=y_val)\n",
        "    model = lgbm.train(params=params,train_set=dtrain,num_boost_round=num_boost_round,\n",
        "                        valid_sets=(dtrain, dval),early_stopping_rounds=50,verbose_eval=50)\n",
        "    \n",
        "    best_iteration = model.best_iteration\n",
        "   \n",
        "    oof_lgb[val_index]= model.predict(X_val,num_iteration=best_iteration)>0.5\n",
        "    predictions_lgb= ((model.predict(test[cols],num_iteration=best_iteration)) >0.5)/n_folds\n",
        "    \n",
        "print(1-accuracy_score(oof_lgb,train.bank_account))"
      ],
      "execution_count": null,
      "outputs": [
        {
          "output_type": "stream",
          "text": [
            "Training until validation scores don't improve for 50 rounds.\n",
            "[50]\ttraining's binary_error: 0.120623\tvalid_1's binary_error: 0.120935\n",
            "[100]\ttraining's binary_error: 0.108295\tvalid_1's binary_error: 0.112646\n",
            "[150]\ttraining's binary_error: 0.104681\tvalid_1's binary_error: 0.110308\n",
            "Early stopping, best iteration is:\n",
            "[146]\ttraining's binary_error: 0.104416\tvalid_1's binary_error: 0.110308\n",
            "Training until validation scores don't improve for 50 rounds.\n",
            "[50]\ttraining's binary_error: 0.119773\tvalid_1's binary_error: 0.126036\n",
            "[100]\ttraining's binary_error: 0.108826\tvalid_1's binary_error: 0.110521\n",
            "[150]\ttraining's binary_error: 0.106276\tvalid_1's binary_error: 0.109883\n",
            "[200]\ttraining's binary_error: 0.104256\tvalid_1's binary_error: 0.107758\n",
            "[250]\ttraining's binary_error: 0.102715\tvalid_1's binary_error: 0.106482\n",
            "[300]\ttraining's binary_error: 0.101281\tvalid_1's binary_error: 0.10627\n",
            "Did not meet early stopping. Best iteration is:\n",
            "[297]\ttraining's binary_error: 0.101281\tvalid_1's binary_error: 0.106695\n",
            "Training until validation scores don't improve for 50 rounds.\n",
            "[50]\ttraining's binary_error: 0.120463\tvalid_1's binary_error: 0.12051\n",
            "[100]\ttraining's binary_error: 0.108189\tvalid_1's binary_error: 0.114346\n",
            "[150]\ttraining's binary_error: 0.105585\tvalid_1's binary_error: 0.113284\n",
            "Early stopping, best iteration is:\n",
            "[129]\ttraining's binary_error: 0.105957\tvalid_1's binary_error: 0.112221\n",
            "Training until validation scores don't improve for 50 rounds.\n",
            "[50]\ttraining's binary_error: 0.119613\tvalid_1's binary_error: 0.122848\n",
            "[100]\ttraining's binary_error: 0.106807\tvalid_1's binary_error: 0.115834\n",
            "Early stopping, best iteration is:\n",
            "[97]\ttraining's binary_error: 0.107073\tvalid_1's binary_error: 0.114984\n",
            "Training until validation scores don't improve for 50 rounds.\n",
            "[50]\ttraining's binary_error: 0.121892\tvalid_1's binary_error: 0.121599\n",
            "[100]\ttraining's binary_error: 0.108502\tvalid_1's binary_error: 0.110332\n",
            "[150]\ttraining's binary_error: 0.105845\tvalid_1's binary_error: 0.108844\n",
            "[200]\ttraining's binary_error: 0.103773\tvalid_1's binary_error: 0.109269\n",
            "[250]\ttraining's binary_error: 0.10271\tvalid_1's binary_error: 0.108418\n",
            "Early stopping, best iteration is:\n",
            "[219]\ttraining's binary_error: 0.103348\tvalid_1's binary_error: 0.107993\n",
            "0.11044040129229726\n"
          ],
          "name": "stdout"
        }
      ]
    },
    {
      "cell_type": "code",
      "metadata": {
        "id": "cndOJFszxmsT"
      },
      "source": [
        "test=pd.read_csv('/content/drive/My Drive/PIE_FINANCILAL_INCLUSION/Test.csv')"
      ],
      "execution_count": null,
      "outputs": []
    },
    {
      "cell_type": "code",
      "metadata": {
        "id": "2rHP5UBuxmsa"
      },
      "source": [
        "sub_df=pd.read_csv(\"/content/drive/My Drive/PIE_FINANCILAL_INCLUSION/SubmissionFile.csv\")"
      ],
      "execution_count": null,
      "outputs": []
    },
    {
      "cell_type": "code",
      "metadata": {
        "id": "JlLduRiqxmsm",
        "colab": {
          "base_uri": "https://localhost:8080/",
          "height": 204
        },
        "outputId": "a664a7f7-d1da-41c3-9518-3a386454ddda"
      },
      "source": [
        "sub_df.head()"
      ],
      "execution_count": null,
      "outputs": [
        {
          "output_type": "execute_result",
          "data": {
            "text/html": [
              "<div>\n",
              "<style scoped>\n",
              "    .dataframe tbody tr th:only-of-type {\n",
              "        vertical-align: middle;\n",
              "    }\n",
              "\n",
              "    .dataframe tbody tr th {\n",
              "        vertical-align: top;\n",
              "    }\n",
              "\n",
              "    .dataframe thead th {\n",
              "        text-align: right;\n",
              "    }\n",
              "</style>\n",
              "<table border=\"1\" class=\"dataframe\">\n",
              "  <thead>\n",
              "    <tr style=\"text-align: right;\">\n",
              "      <th></th>\n",
              "      <th>uniqueid</th>\n",
              "      <th>bank_account</th>\n",
              "    </tr>\n",
              "  </thead>\n",
              "  <tbody>\n",
              "    <tr>\n",
              "      <th>0</th>\n",
              "      <td>uniqueid_7867 x Kenya</td>\n",
              "      <td>1.0</td>\n",
              "    </tr>\n",
              "    <tr>\n",
              "      <th>1</th>\n",
              "      <td>uniqueid_6722 x Kenya</td>\n",
              "      <td>0.0</td>\n",
              "    </tr>\n",
              "    <tr>\n",
              "      <th>2</th>\n",
              "      <td>uniqueid_6714 x Kenya</td>\n",
              "      <td>1.0</td>\n",
              "    </tr>\n",
              "    <tr>\n",
              "      <th>3</th>\n",
              "      <td>uniqueid_8103 x Kenya</td>\n",
              "      <td>1.0</td>\n",
              "    </tr>\n",
              "    <tr>\n",
              "      <th>4</th>\n",
              "      <td>uniqueid_8657 x Kenya</td>\n",
              "      <td>1.0</td>\n",
              "    </tr>\n",
              "  </tbody>\n",
              "</table>\n",
              "</div>"
            ],
            "text/plain": [
              "                uniqueid  bank_account\n",
              "0  uniqueid_7867 x Kenya           1.0\n",
              "1  uniqueid_6722 x Kenya           0.0\n",
              "2  uniqueid_6714 x Kenya           1.0\n",
              "3  uniqueid_8103 x Kenya           1.0\n",
              "4  uniqueid_8657 x Kenya           1.0"
            ]
          },
          "metadata": {
            "tags": []
          },
          "execution_count": 200
        }
      ]
    },
    {
      "cell_type": "code",
      "metadata": {
        "id": "cfDXojbLxmst"
      },
      "source": [
        "sub_df['uniqueid']=test[\"uniqueid\"]+\" x \"+test[\"country\"]\n",
        "sub_df['bank_account'] = (predictions_lgb)>0\n",
        "sub_df[[\"bank_account\"]]=sub_df[[\"bank_account\"]].astype(int)\n",
        "\n",
        "sub_df.to_csv('submission_lgb.csv', index = False)"
      ],
      "execution_count": null,
      "outputs": []
    },
    {
      "cell_type": "code",
      "metadata": {
        "id": "wxIjqKo-xmsz",
        "colab": {
          "base_uri": "https://localhost:8080/",
          "height": 204
        },
        "outputId": "b00a3fda-18a7-40fd-8d52-16c39436c2cd"
      },
      "source": [
        "sub_df.head()"
      ],
      "execution_count": null,
      "outputs": [
        {
          "output_type": "execute_result",
          "data": {
            "text/html": [
              "<div>\n",
              "<style scoped>\n",
              "    .dataframe tbody tr th:only-of-type {\n",
              "        vertical-align: middle;\n",
              "    }\n",
              "\n",
              "    .dataframe tbody tr th {\n",
              "        vertical-align: top;\n",
              "    }\n",
              "\n",
              "    .dataframe thead th {\n",
              "        text-align: right;\n",
              "    }\n",
              "</style>\n",
              "<table border=\"1\" class=\"dataframe\">\n",
              "  <thead>\n",
              "    <tr style=\"text-align: right;\">\n",
              "      <th></th>\n",
              "      <th>uniqueid</th>\n",
              "      <th>bank_account</th>\n",
              "    </tr>\n",
              "  </thead>\n",
              "  <tbody>\n",
              "    <tr>\n",
              "      <th>0</th>\n",
              "      <td>uniqueid_6056 x Kenya</td>\n",
              "      <td>1</td>\n",
              "    </tr>\n",
              "    <tr>\n",
              "      <th>1</th>\n",
              "      <td>uniqueid_6060 x Kenya</td>\n",
              "      <td>1</td>\n",
              "    </tr>\n",
              "    <tr>\n",
              "      <th>2</th>\n",
              "      <td>uniqueid_6065 x Kenya</td>\n",
              "      <td>0</td>\n",
              "    </tr>\n",
              "    <tr>\n",
              "      <th>3</th>\n",
              "      <td>uniqueid_6072 x Kenya</td>\n",
              "      <td>0</td>\n",
              "    </tr>\n",
              "    <tr>\n",
              "      <th>4</th>\n",
              "      <td>uniqueid_6073 x Kenya</td>\n",
              "      <td>0</td>\n",
              "    </tr>\n",
              "  </tbody>\n",
              "</table>\n",
              "</div>"
            ],
            "text/plain": [
              "                uniqueid  bank_account\n",
              "0  uniqueid_6056 x Kenya             1\n",
              "1  uniqueid_6060 x Kenya             1\n",
              "2  uniqueid_6065 x Kenya             0\n",
              "3  uniqueid_6072 x Kenya             0\n",
              "4  uniqueid_6073 x Kenya             0"
            ]
          },
          "metadata": {
            "tags": []
          },
          "execution_count": 202
        }
      ]
    },
    {
      "cell_type": "code",
      "metadata": {
        "id": "TwtHxwNRxms8"
      },
      "source": [
        "from IPython.display import HTML\n",
        "\n",
        "def create_download_link(title = \"Download CSV file\", filename = \"data.csv\"):  \n",
        "    html = '<a href={filename}>{title}</a>'\n",
        "    html = html.format(title=title,filename=filename)\n",
        "    return HTML(html)\n"
      ],
      "execution_count": null,
      "outputs": []
    },
    {
      "cell_type": "code",
      "metadata": {
        "id": "AruMSllPxmtD",
        "colab": {
          "base_uri": "https://localhost:8080/",
          "height": 34
        },
        "outputId": "641c02a2-2f8e-483b-9b74-2149b71b69cb"
      },
      "source": [
        "create_download_link(filename='submission_lgb.csv')"
      ],
      "execution_count": null,
      "outputs": [
        {
          "output_type": "execute_result",
          "data": {
            "text/html": [
              "<a href=submission_lgb.csv>Download CSV file</a>"
            ],
            "text/plain": [
              "<IPython.core.display.HTML object>"
            ]
          },
          "metadata": {
            "tags": []
          },
          "execution_count": 204
        }
      ]
    },
    {
      "cell_type": "code",
      "metadata": {
        "id": "ZrwAxAGH7L9a"
      },
      "source": [
        "from google.colab import files\n",
        "files.download('submission_lgb.csv') "
      ],
      "execution_count": null,
      "outputs": []
    },
    {
      "cell_type": "code",
      "metadata": {
        "id": "D7qkvr0Y8hYC"
      },
      "source": [
        ""
      ],
      "execution_count": null,
      "outputs": []
    }
  ]
}