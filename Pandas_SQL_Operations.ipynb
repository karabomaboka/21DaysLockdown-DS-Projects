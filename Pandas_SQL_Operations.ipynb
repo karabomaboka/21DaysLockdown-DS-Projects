{
  "nbformat": 4,
  "nbformat_minor": 0,
  "metadata": {
    "colab": {
      "name": "Pandas SQL Operations.ipynb",
      "provenance": [],
      "authorship_tag": "ABX9TyOm5AH5oJStS1GqfvYrrhuA",
      "include_colab_link": true
    },
    "kernelspec": {
      "name": "python3",
      "display_name": "Python 3"
    }
  },
  "cells": [
    {
      "cell_type": "markdown",
      "metadata": {
        "id": "view-in-github",
        "colab_type": "text"
      },
      "source": [
        "<a href=\"https://colab.research.google.com/github/karabomaboka/21DaysLockdown-DS-Projects/blob/master/Pandas_SQL_Operations.ipynb\" target=\"_parent\"><img src=\"https://colab.research.google.com/assets/colab-badge.svg\" alt=\"Open In Colab\"/></a>"
      ]
    },
    {
      "cell_type": "code",
      "metadata": {
        "id": "9Xv9MUILpFxz",
        "colab_type": "code",
        "colab": {}
      },
      "source": [
        "import pandas as pd"
      ],
      "execution_count": 0,
      "outputs": []
    },
    {
      "cell_type": "code",
      "metadata": {
        "id": "kCtK4RgptPj9",
        "colab_type": "code",
        "colab": {}
      },
      "source": [
        "import sqlite3"
      ],
      "execution_count": 0,
      "outputs": []
    },
    {
      "cell_type": "code",
      "metadata": {
        "id": "3dGeYoVPtRnq",
        "colab_type": "code",
        "colab": {}
      },
      "source": [
        "#Create SQL Table\n",
        "create_table=\"\"\"\n",
        "CREATE TABLE student_score\n",
        "(Id INTEGER,Name VARCAHR(20),Math REAL,Science REAL);\"\"\""
      ],
      "execution_count": 0,
      "outputs": []
    },
    {
      "cell_type": "code",
      "metadata": {
        "id": "Bbkg7XvKtoaJ",
        "colab_type": "code",
        "colab": {}
      },
      "source": [
        "#Execute SQL Statements\n",
        "executeSQL=sqlite3.connect(':memory:')\n",
        "executeSQL.execute(create_table)\n",
        "executeSQL.commit()"
      ],
      "execution_count": 0,
      "outputs": []
    },
    {
      "cell_type": "code",
      "metadata": {
        "id": "r1uNE4yft6WO",
        "colab_type": "code",
        "colab": {}
      },
      "source": [
        "#Prepare  a SQL query\n",
        "SQL_query=executeSQL.execute('select *from student_score')"
      ],
      "execution_count": 0,
      "outputs": []
    },
    {
      "cell_type": "code",
      "metadata": {
        "id": "FqyXdJN8uM4e",
        "colab_type": "code",
        "colab": {}
      },
      "source": [
        "#fetch the resultset for the query\n",
        "resultset=SQL_query.fetchall()"
      ],
      "execution_count": 0,
      "outputs": []
    },
    {
      "cell_type": "code",
      "metadata": {
        "id": "pv02apgeugaw",
        "colab_type": "code",
        "colab": {
          "base_uri": "https://localhost:8080/",
          "height": 36
        },
        "outputId": "611593ff-8d50-4daa-fbe4-d4fcf3154672"
      },
      "source": [
        "#view the resultset(Empty data)\n",
        "resultset"
      ],
      "execution_count": 31,
      "outputs": [
        {
          "output_type": "execute_result",
          "data": {
            "text/plain": [
              "[]"
            ]
          },
          "metadata": {
            "tags": []
          },
          "execution_count": 31
        }
      ]
    },
    {
      "cell_type": "code",
      "metadata": {
        "id": "CRxQ_DctutZ1",
        "colab_type": "code",
        "colab": {}
      },
      "source": [
        "#prepare records to be in SQL table\n",
        "insertSQL = [(10,'Jack',85,92),\n",
        "                      (29,'Tom',73,89),\n",
        "                      (65,'Ram',65.5,77),\n",
        "                      (5,'Steve',55,91)\n",
        "                      ]"
      ],
      "execution_count": 0,
      "outputs": []
    },
    {
      "cell_type": "code",
      "metadata": {
        "id": "PuhKCrVLvcFZ",
        "colab_type": "code",
        "colab": {}
      },
      "source": [
        "#insert records into table\n",
        "insert_statement=\"Insert into student_score values(?,?,?,?)\"\n",
        "executeSQL.executemany(insert_statement,insertSQL)\n",
        "executeSQL.commit()"
      ],
      "execution_count": 0,
      "outputs": []
    },
    {
      "cell_type": "code",
      "metadata": {
        "id": "GL3sOFogvz0X",
        "colab_type": "code",
        "colab": {}
      },
      "source": [
        "#Prepare the sql query\n",
        "SQL_queryy=executeSQL.execute(\"select * from student_score\")"
      ],
      "execution_count": 0,
      "outputs": []
    },
    {
      "cell_type": "code",
      "metadata": {
        "id": "1YizNslbwBF9",
        "colab_type": "code",
        "colab": {}
      },
      "source": [
        "resultsets=SQL_queryy.fetchall()"
      ],
      "execution_count": 0,
      "outputs": []
    },
    {
      "cell_type": "code",
      "metadata": {
        "id": "L1BoqSHQwGia",
        "colab_type": "code",
        "colab": {
          "base_uri": "https://localhost:8080/",
          "height": 92
        },
        "outputId": "c3ec2011-9ec1-445f-979a-822ce8a7e68a"
      },
      "source": [
        "resultsets"
      ],
      "execution_count": 40,
      "outputs": [
        {
          "output_type": "execute_result",
          "data": {
            "text/plain": [
              "[(10, 'Jack', 85.0, 92.0),\n",
              " (29, 'Tom', 73.0, 89.0),\n",
              " (65, 'Ram', 65.5, 77.0),\n",
              " (5, 'Steve', 55.0, 91.0)]"
            ]
          },
          "metadata": {
            "tags": []
          },
          "execution_count": 40
        }
      ]
    },
    {
      "cell_type": "code",
      "metadata": {
        "id": "WU55gVL5w3qt",
        "colab_type": "code",
        "colab": {}
      },
      "source": [
        ""
      ],
      "execution_count": 0,
      "outputs": []
    }
  ]
}