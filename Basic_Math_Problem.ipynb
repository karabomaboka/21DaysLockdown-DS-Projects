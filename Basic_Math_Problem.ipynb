{
  "nbformat": 4,
  "nbformat_minor": 0,
  "metadata": {
    "colab": {
      "name": "Basic Math Problem.ipynb",
      "provenance": [],
      "authorship_tag": "ABX9TyNiJHYPqiFx99vuQNdb8nQ/",
      "include_colab_link": true
    },
    "kernelspec": {
      "name": "python3",
      "display_name": "Python 3"
    }
  },
  "cells": [
    {
      "cell_type": "markdown",
      "metadata": {
        "id": "view-in-github",
        "colab_type": "text"
      },
      "source": [
        "<a href=\"https://colab.research.google.com/github/karabomaboka/21DaysLockdown-DS-Projects/blob/master/Basic_Math_Problem.ipynb\" target=\"_parent\"><img src=\"https://colab.research.google.com/assets/colab-badge.svg\" alt=\"Open In Colab\"/></a>"
      ]
    },
    {
      "cell_type": "markdown",
      "metadata": {
        "id": "jzkZwh-COkE5",
        "colab_type": "text"
      },
      "source": [
        "Question : 6/2*(1+2)=?\n",
        "\n",
        "\n",
        "**Lets first use basic Math Operation in Python Programming**\n",
        "\n"
      ]
    },
    {
      "cell_type": "code",
      "metadata": {
        "id": "L96JJuOfO6Np",
        "colab_type": "code",
        "colab": {
          "base_uri": "https://localhost:8080/",
          "height": 36
        },
        "outputId": "460ba12c-82c7-453b-efeb-fb8c9b28b376"
      },
      "source": [
        "w=6\n",
        "x=2\n",
        "y=1\n",
        "z=2\n",
        "A=w/x*(y+z)\n",
        "print(A)"
      ],
      "execution_count": 13,
      "outputs": [
        {
          "output_type": "stream",
          "text": [
            "9.0\n"
          ],
          "name": "stdout"
        }
      ]
    },
    {
      "cell_type": "markdown",
      "metadata": {
        "id": "ZWs6ok9zIhFc",
        "colab_type": "text"
      },
      "source": [
        "\n",
        "Question :     6/2*(1+2)= ?\n",
        "\n",
        "\n",
        "**Order of Operations through the acronym PEMDAS**\n",
        "\n",
        "\n",
        "*   P-Parantheses\n",
        "*   E-Exponent\n",
        "\n",
        "*   M-Multiplication\n",
        "*   D-Division\n",
        "\n",
        "*  A-Addition\n",
        "*   S-Subtraction\n"
      ]
    },
    {
      "cell_type": "code",
      "metadata": {
        "id": "2nQvZ1S5KYr-",
        "colab_type": "code",
        "colab": {}
      },
      "source": [
        "def MathProblem(a,b,c,d):\n",
        "  answer=a/b*(c+d)\n",
        "  if answer ==1:\n",
        "    Print(answer,'Lets Hope its the right one')\n",
        "  else:\n",
        "      print('You cant argue with a machine,the answer is',answer)"
      ],
      "execution_count": 10,
      "outputs": []
    },
    {
      "cell_type": "code",
      "metadata": {
        "id": "5jd2iLOKLVUn",
        "colab_type": "code",
        "colab": {
          "base_uri": "https://localhost:8080/",
          "height": 36
        },
        "outputId": "efc8eb65-99db-4755-9765-c26099ab3791"
      },
      "source": [
        "MathProblem(6,2,1,2)"
      ],
      "execution_count": 11,
      "outputs": [
        {
          "output_type": "stream",
          "text": [
            "You cant argue with a machine,the answer is 9.0\n"
          ],
          "name": "stdout"
        }
      ]
    }
  ]
}